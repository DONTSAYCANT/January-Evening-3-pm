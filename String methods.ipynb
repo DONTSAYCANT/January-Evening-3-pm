{
 "cells": [
  {
   "cell_type": "code",
   "execution_count": null,
   "metadata": {},
   "outputs": [],
   "source": [
    "#Ref: https://www.w3schools.com/python/python_ref_string.asp"
   ]
  },
  {
   "cell_type": "code",
   "execution_count": null,
   "metadata": {},
   "outputs": [],
   "source": [
    "#String:\n",
    "\n",
    "#collection of characters\n",
    "#whatever you're writing within \"\" ' '\n",
    "\n",
    "#Indexing\n",
    "#Slicing\n",
    "\n",
    "\n",
    "#string methods ==> you can only apply on specfic class\n",
    "#function \n",
    "\n"
   ]
  },
  {
   "cell_type": "code",
   "execution_count": 1,
   "metadata": {},
   "outputs": [
    {
     "name": "stdout",
     "output_type": "stream",
     "text": [
      "COMPUTER\n",
      "computer\n"
     ]
    }
   ],
   "source": [
    "#upper/lower\n",
    "\n",
    "a = \"compUTER\"\n",
    "\n",
    "print(a.upper()) #convert to upper case\n",
    "print(a.lower()) #convert to lower case"
   ]
  },
  {
   "cell_type": "code",
   "execution_count": 2,
   "metadata": {},
   "outputs": [
    {
     "name": "stdout",
     "output_type": "stream",
     "text": [
      "Python is very good scripting languaege\n",
      "Python Is Very Good Scripting Languaege\n",
      "PYTHON is VERY good SCRIPTING LANGUAEGE\n"
     ]
    }
   ],
   "source": [
    "#capitalize / title / swapcae\n",
    "\n",
    "a = \"python IS very GOOD scripting languaege\"\n",
    "\n",
    "print(a.capitalize())\n",
    "\n",
    "print(a.title())\n",
    "\n",
    "print(a.swapcase())\n"
   ]
  },
  {
   "cell_type": "code",
   "execution_count": 3,
   "metadata": {},
   "outputs": [
    {
     "name": "stdout",
     "output_type": "stream",
     "text": [
      "1\n"
     ]
    },
    {
     "ename": "ValueError",
     "evalue": "substring not found",
     "output_type": "error",
     "traceback": [
      "\u001b[1;31m---------------------------------------------------------------------------\u001b[0m",
      "\u001b[1;31mValueError\u001b[0m                                Traceback (most recent call last)",
      "\u001b[1;32m<ipython-input-3-85514d78e934>\u001b[0m in \u001b[0;36m<module>\u001b[1;34m\u001b[0m\n\u001b[0;32m      3\u001b[0m \u001b[1;33m\u001b[0m\u001b[0m\n\u001b[0;32m      4\u001b[0m \u001b[0mprint\u001b[0m\u001b[1;33m(\u001b[0m\u001b[0ma\u001b[0m\u001b[1;33m.\u001b[0m\u001b[0mindex\u001b[0m\u001b[1;33m(\u001b[0m\u001b[1;34m\"y\"\u001b[0m\u001b[1;33m)\u001b[0m\u001b[1;33m)\u001b[0m\u001b[1;33m\u001b[0m\u001b[1;33m\u001b[0m\u001b[0m\n\u001b[1;32m----> 5\u001b[1;33m \u001b[0mprint\u001b[0m\u001b[1;33m(\u001b[0m\u001b[0ma\u001b[0m\u001b[1;33m.\u001b[0m\u001b[0mindex\u001b[0m\u001b[1;33m(\u001b[0m\u001b[1;34m\"z\"\u001b[0m\u001b[1;33m)\u001b[0m\u001b[1;33m)\u001b[0m\u001b[1;33m\u001b[0m\u001b[1;33m\u001b[0m\u001b[0m\n\u001b[0m",
      "\u001b[1;31mValueError\u001b[0m: substring not found"
     ]
    }
   ],
   "source": [
    "#Index / find ==> positive index value\n",
    "a = \"python\"\n",
    "\n",
    "print(a.index(\"y\"))\n",
    "print(a.index(\"z\"))\n"
   ]
  },
  {
   "cell_type": "code",
   "execution_count": 4,
   "metadata": {},
   "outputs": [
    {
     "name": "stdout",
     "output_type": "stream",
     "text": [
      "1\n",
      "-1\n"
     ]
    }
   ],
   "source": [
    "a = \"python\"\n",
    "\n",
    "print(a.find(\"y\"))\n",
    "print(a.find(\"z\")) #unavailable value -1 is the output"
   ]
  },
  {
   "cell_type": "code",
   "execution_count": 6,
   "metadata": {},
   "outputs": [
    {
     "name": "stdout",
     "output_type": "stream",
     "text": [
      "1\n",
      "1\n",
      "0\n"
     ]
    }
   ],
   "source": [
    "#replace/count\n",
    "\n",
    "a = \"python\"\n",
    "\n",
    "print(a.count(\"o\"))\n",
    "print(a.count(\"py\"))\n",
    "print(a.count(\"zz\"))"
   ]
  },
  {
   "cell_type": "code",
   "execution_count": 7,
   "metadata": {},
   "outputs": [
    {
     "name": "stdout",
     "output_type": "stream",
     "text": [
      "pyth*n\n",
      "$thon\n",
      "python\n"
     ]
    }
   ],
   "source": [
    "a = \"python\"\n",
    "\n",
    "print(a.replace(\"o\", \"*\"))\n",
    "print(a.replace(\"py\", \"$\"))\n",
    "print(a.replace(\"zz\",\"9999\"))"
   ]
  },
  {
   "cell_type": "code",
   "execution_count": 8,
   "metadata": {},
   "outputs": [
    {
     "name": "stdout",
     "output_type": "stream",
     "text": [
      "pythonprogram\n"
     ]
    }
   ],
   "source": [
    "#concatenation\n",
    "\n",
    "a = \"python\"\n",
    "b = \"program\"\n",
    "\n",
    "print(a + b)"
   ]
  },
  {
   "cell_type": "code",
   "execution_count": 9,
   "metadata": {},
   "outputs": [
    {
     "name": "stdout",
     "output_type": "stream",
     "text": [
      "pythonpythonpythonpythonpythonpythonpythonpythonpythonpython\n"
     ]
    }
   ],
   "source": [
    "#multiplication\n",
    "\n",
    "a = \"python\"\n",
    "\n",
    "print(a * 10)"
   ]
  },
  {
   "cell_type": "code",
   "execution_count": 12,
   "metadata": {},
   "outputs": [
    {
     "name": "stdout",
     "output_type": "stream",
     "text": [
      "15\n"
     ]
    }
   ],
   "source": [
    "#len\n",
    "\n",
    "a = \"python  program\"\n",
    "\n",
    "print(len(a))"
   ]
  },
  {
   "cell_type": "code",
   "execution_count": 11,
   "metadata": {},
   "outputs": [
    {
     "name": "stdout",
     "output_type": "stream",
     "text": [
      "python\n",
      "   python\n",
      "python     \n"
     ]
    }
   ],
   "source": [
    "#strip/lstrip/rstrip\n",
    "\n",
    "#strip\n",
    "\n",
    "a = \"   python     \"\n",
    "\n",
    "print(a.strip()) #default space strip(\"$\")\n",
    "\n",
    "#rstrip\n",
    "\n",
    "print(a.rstrip())\n",
    "\n",
    "\n",
    "#lstrip\n",
    "\n",
    "print(a.lstrip())\n"
   ]
  },
  {
   "cell_type": "code",
   "execution_count": 13,
   "metadata": {},
   "outputs": [
    {
     "name": "stdout",
     "output_type": "stream",
     "text": [
      "['hi', 'welcome', 'to', 'python', 'programming']\n"
     ]
    }
   ],
   "source": [
    "#split/join\n",
    "\n",
    "#split ==> string input\n",
    "#List output []\n",
    "\n",
    "a = \"hi welcome to python programming\"\n",
    "\n",
    "val = a.split()\n",
    "\n",
    "print(val)"
   ]
  },
  {
   "cell_type": "code",
   "execution_count": 14,
   "metadata": {},
   "outputs": [
    {
     "name": "stdout",
     "output_type": "stream",
     "text": [
      "hi_welcome_to_python_programming\n"
     ]
    }
   ],
   "source": [
    "#join\n",
    "\n",
    "#input: List\n",
    "#output: string\n",
    "\n",
    "Li = ['hi', 'welcome', 'to', 'python', 'programming']\n",
    "\n",
    "output = \"_\".join(Li)\n",
    "\n",
    "print(output)"
   ]
  },
  {
   "cell_type": "code",
   "execution_count": null,
   "metadata": {},
   "outputs": [],
   "source": [
    "#center rcenter\n",
    "\n",
    "#rjust ljust just"
   ]
  },
  {
   "cell_type": "code",
   "execution_count": 16,
   "metadata": {},
   "outputs": [
    {
     "name": "stdout",
     "output_type": "stream",
     "text": [
      "False\n",
      "True\n"
     ]
    }
   ],
   "source": [
    "#isalpha\n",
    "\n",
    "a = \"698920\"\n",
    "\n",
    "print(a.isalpha())\n",
    "print(a.isalnum())\n",
    "print(a.isal)"
   ]
  },
  {
   "cell_type": "code",
   "execution_count": 23,
   "metadata": {},
   "outputs": [
    {
     "name": "stdout",
     "output_type": "stream",
     "text": [
      "please enter a string: computer_science\n",
      "_\n"
     ]
    }
   ],
   "source": [
    "#Get one string from user\n",
    "#identify the middle character of the string\n",
    "\n",
    "#task1\n",
    "\n",
    "input_collection = input(\"please enter a string: \")\n",
    "\n",
    "middle_index = len(input_collection) // 2\n",
    "\n",
    "print(input_collection[middle_index])"
   ]
  },
  {
   "cell_type": "code",
   "execution_count": 26,
   "metadata": {},
   "outputs": [
    {
     "name": "stdout",
     "output_type": "stream",
     "text": [
      "python\n"
     ]
    }
   ],
   "source": [
    "string1 =  \"***python***\"\n",
    "\n",
    "string1 = string1.lstrip(\"*\")\n",
    "\n",
    "string1 = string1.rstrip(\"*\")\n",
    "\n",
    "print(string1)"
   ]
  },
  {
   "cell_type": "code",
   "execution_count": 28,
   "metadata": {},
   "outputs": [
    {
     "name": "stdout",
     "output_type": "stream",
     "text": [
      "python\n"
     ]
    }
   ],
   "source": [
    "string1 =  \"***python***\"\n",
    "\n",
    "print(string1.strip(\"*\"))"
   ]
  },
  {
   "cell_type": "code",
   "execution_count": null,
   "metadata": {},
   "outputs": [],
   "source": []
  }
 ],
 "metadata": {
  "kernelspec": {
   "display_name": "Python 3",
   "language": "python",
   "name": "python3"
  },
  "language_info": {
   "codemirror_mode": {
    "name": "ipython",
    "version": 3
   },
   "file_extension": ".py",
   "mimetype": "text/x-python",
   "name": "python",
   "nbconvert_exporter": "python",
   "pygments_lexer": "ipython3",
   "version": "3.7.6"
  }
 },
 "nbformat": 4,
 "nbformat_minor": 4
}
