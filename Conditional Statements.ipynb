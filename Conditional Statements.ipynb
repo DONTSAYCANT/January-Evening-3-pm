{
 "cells": [
  {
   "cell_type": "code",
   "execution_count": null,
   "metadata": {},
   "outputs": [],
   "source": [
    "#conditional statements\n",
    "\n",
    "\n",
    "#keywords: if elif else\n",
    "\n",
    "\n",
    "#Boolean data type\n",
    "#conditions\n",
    "#logical operators\n",
    "#member ship operator\n",
    "\n",
    "#Indentation : \n",
    "\n",
    "#if \n",
    "#if else\n",
    "#if elif elif elif ....\n",
    "#if elif elif elif .... else\n",
    "\n"
   ]
  },
  {
   "cell_type": "code",
   "execution_count": 8,
   "metadata": {},
   "outputs": [
    {
     "name": "stdout",
     "output_type": "stream",
     "text": [
      "False\n",
      "True\n",
      "True\n",
      "True\n",
      "True\n",
      "False\n",
      "False\n",
      "True\n",
      "True\n"
     ]
    }
   ],
   "source": [
    "#Conditions ===> Decision making statements\n",
    "\n",
    "#Boolean Datatype: True False\n",
    "\n",
    "a = 10\n",
    "\n",
    "b = 20\n",
    "\n",
    "print(a > b)\n",
    "print(a < b)\n",
    "print(a != b)\n",
    "\n",
    "print(a<b  and a!=b)\n",
    "\n",
    "#Comparision : < > <= >= == !=\n",
    "\n",
    "#Logical operator: and or\n",
    "\n",
    "#and ===> all of them should be true then True otherwise False\n",
    "#OR  ===> True if any one of the stmt is True\n",
    "\n",
    "\n",
    "#Membership operator\n",
    "\n",
    "print(\"on\" in \"python\")\n",
    "print(\"pp\" in \"python\")\n",
    "print(\"oo\" in \"python\")\n",
    "\n",
    "print(10 in [10,45,36,12])\n",
    "print(20 not in [10,45,36,12])\n"
   ]
  },
  {
   "cell_type": "code",
   "execution_count": null,
   "metadata": {},
   "outputs": [],
   "source": [
    "#Indentation:\n",
    "\n",
    "\n",
    "#blocks statements\n",
    "\n",
    "#scope\n",
    "\n",
    "if (a>b){\n",
    "    #code1\n",
    "    #code2\n",
    "    #code3\n",
    "}\n",
    "\n",
    "if a>b: #open brace\n",
    "    #code1\n",
    "    #code2\n",
    "    #code3 #closed brace\n",
    "#normal program"
   ]
  },
  {
   "cell_type": "code",
   "execution_count": 12,
   "metadata": {},
   "outputs": [
    {
     "name": "stdout",
     "output_type": "stream",
     "text": [
      "please enter a number27\n",
      "odd number\n"
     ]
    }
   ],
   "source": [
    "#even or odd\n",
    "\n",
    "#collect one number from user\n",
    "#check whether it's even or odd\n",
    "\n",
    "number1 = int(input(\"please enter a number\"))\n",
    "\n",
    "if number1%2 == 0:\n",
    "    print(\"Even number\")\n",
    "else:\n",
    "    print(\"odd number\")"
   ]
  },
  {
   "cell_type": "code",
   "execution_count": 15,
   "metadata": {},
   "outputs": [
    {
     "name": "stdout",
     "output_type": "stream",
     "text": [
      "it's palindrome\n"
     ]
    }
   ],
   "source": [
    "#palindrome\n",
    "\n",
    "#collect one string from user\n",
    "#check whether it's palindrome or not\n",
    "\n",
    "str1 = \"malayalam\"\n",
    "\n",
    "if str1 == str1[::-1]:\n",
    "    print(\"it's palindrome\")\n",
    "else:\n",
    "    print(\"not a palindrome\")"
   ]
  },
  {
   "cell_type": "code",
   "execution_count": null,
   "metadata": {},
   "outputs": [],
   "source": [
    "#len of the string odd or even\n",
    "\n",
    "#collect one string from user\n",
    "#check whether the length of the string is odd or even"
   ]
  },
  {
   "cell_type": "code",
   "execution_count": null,
   "metadata": {},
   "outputs": [],
   "source": [
    "##positve or negative or zero\n",
    "#\n",
    "\n",
    "#collect one number from user\n",
    "\n",
    "#check whether the number is positive or negative or zero\n"
   ]
  },
  {
   "cell_type": "code",
   "execution_count": null,
   "metadata": {},
   "outputs": [],
   "source": [
    "#mark calculation\n",
    "\n",
    "#collect physics / checmistry / mathematics mark from user\n",
    "#all the marks should be between 0 -200 ==> \n",
    "#calculate aggregate = phy/4  + chem/4  + maths / 2\n",
    "\n",
    "#pass mark: 70\n",
    "\n",
    "\n",
    "\n",
    "aggregate > 190 :  First class\n",
    "    \n",
    "aggregate > 150 : second class\n",
    "    \n",
    "aggregate > 70 : Third class \n",
    "    \n",
    "aggregate < 70 : Fail Try again\n",
    "    \n",
    "    \n",
    "#valid or invalid\n",
    "#Pass or Fail\n",
    "#Class \n",
    "\n",
    "\n"
   ]
  },
  {
   "cell_type": "code",
   "execution_count": 17,
   "metadata": {},
   "outputs": [
    {
     "name": "stdout",
     "output_type": "stream",
     "text": [
      "not a multiple\n"
     ]
    }
   ],
   "source": [
    "number = 47\n",
    "\n",
    "if number%5 == 0 and number %3 == 0:\n",
    "    print(\"multiple of 5 and 3\")\n",
    "else:\n",
    "    print(\"not a multiple\")"
   ]
  },
  {
   "cell_type": "code",
   "execution_count": null,
   "metadata": {},
   "outputs": [],
   "source": []
  }
 ],
 "metadata": {
  "kernelspec": {
   "display_name": "Python 3",
   "language": "python",
   "name": "python3"
  },
  "language_info": {
   "codemirror_mode": {
    "name": "ipython",
    "version": 3
   },
   "file_extension": ".py",
   "mimetype": "text/x-python",
   "name": "python",
   "nbconvert_exporter": "python",
   "pygments_lexer": "ipython3",
   "version": "3.7.6"
  }
 },
 "nbformat": 4,
 "nbformat_minor": 4
}
