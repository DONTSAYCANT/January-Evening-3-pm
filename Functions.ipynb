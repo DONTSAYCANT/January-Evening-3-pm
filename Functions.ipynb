{
 "cells": [
  {
   "cell_type": "code",
   "execution_count": null,
   "metadata": {},
   "outputs": [],
   "source": [
    "Functions ?\n",
    "\n",
    "Reusable block of code\n",
    "\n",
    "\n",
    "inbuilt function:\n",
    "    \n",
    "#abs\n",
    "#print\n",
    "#dict\n",
    "#type\n",
    "#float\n",
    "#int\n",
    "#bool\n",
    "#input\n",
    "#id\n",
    "#zip\n",
    "#any\n",
    "#all\n",
    "#ord\n",
    "#chr\n",
    "#min / max /len / sum\n",
    "\n",
    "    \n",
    "    \n",
    "User defined function:\n",
    "    \n",
    "    both function def and function call should be there\n",
    "    \n",
    "    \n",
    "\n",
    "recursive function\n",
    "\n",
    "return\n",
    "arguement / parameter\n",
    "function definition   ==> redundant code \n",
    "function call\n",
    "key words: def return\n",
    "function with dynamic number of args"
   ]
  },
  {
   "cell_type": "code",
   "execution_count": null,
   "metadata": {},
   "outputs": [],
   "source": [
    "#inbuilt functions:\n",
    "\n",
    "https://www.geeksforgeeks.org/python-programming-examples/ \n",
    "    \n",
    "    "
   ]
  },
  {
   "cell_type": "code",
   "execution_count": 2,
   "metadata": {},
   "outputs": [
    {
     "name": "stdout",
     "output_type": "stream",
     "text": [
      "13.5\n",
      "19.448650338776723\n"
     ]
    }
   ],
   "source": [
    "#abs\n",
    "\n",
    "print(abs(-13.5))\n",
    "print(abs(13.5 + 14j))"
   ]
  },
  {
   "cell_type": "code",
   "execution_count": 6,
   "metadata": {},
   "outputs": [
    {
     "name": "stdout",
     "output_type": "stream",
     "text": [
      "Failure\n",
      "Failure\n"
     ]
    }
   ],
   "source": [
    "#all and any function\n",
    "\n",
    "#==> AND and OR gate\n",
    "\n",
    "a = 10\n",
    "\n",
    "if a>5 and a!=10 and a < 100 and a == 5:\n",
    "    print(\"Success\")\n",
    "else:\n",
    "    print(\"Failure\")\n",
    "    \n",
    "    \n",
    "if all((a>5, a!=10, a < 100,a == 5)):\n",
    "    print(\"Success\")\n",
    "else:\n",
    "    print(\"Failure\")"
   ]
  },
  {
   "cell_type": "code",
   "execution_count": 7,
   "metadata": {},
   "outputs": [
    {
     "name": "stdout",
     "output_type": "stream",
     "text": [
      "0b1100100\n",
      "0o144\n",
      "0x64\n"
     ]
    }
   ],
   "source": [
    "#bin / oct / hex\n",
    "\n",
    "a = 100\n",
    "\n",
    "print(bin(a))\n",
    "print(oct(a))\n",
    "print(hex(a))"
   ]
  },
  {
   "cell_type": "code",
   "execution_count": 8,
   "metadata": {},
   "outputs": [
    {
     "name": "stdout",
     "output_type": "stream",
     "text": [
      "(1, 4)\n"
     ]
    }
   ],
   "source": [
    "a = 10\n",
    "b = 6\n",
    "\n",
    "print(divmod(a,b))"
   ]
  },
  {
   "cell_type": "code",
   "execution_count": 11,
   "metadata": {},
   "outputs": [
    {
     "name": "stdout",
     "output_type": "stream",
     "text": [
      "d\n",
      "109\n"
     ]
    }
   ],
   "source": [
    "a = 100\n",
    "\n",
    "print(chr(a))\n",
    "\n",
    "b = \"m\"\n",
    "\n",
    "print(ord(b))"
   ]
  },
  {
   "cell_type": "code",
   "execution_count": 12,
   "metadata": {},
   "outputs": [
    {
     "name": "stdout",
     "output_type": "stream",
     "text": [
      "300\n",
      "2400\n"
     ]
    }
   ],
   "source": [
    "def math_calculation(a,b):  #Function definition\n",
    "    val = (a ** 2) - (b ** 2)\n",
    "    return val #Last line to be executed in function definition  #None will return default\n",
    "\n",
    "\n",
    "print(math_calculation(20,10))\n",
    "print(math_calculation(50,10))\n",
    "    "
   ]
  },
  {
   "cell_type": "code",
   "execution_count": 14,
   "metadata": {},
   "outputs": [
    {
     "name": "stdout",
     "output_type": "stream",
     "text": [
      "pn\n",
      "cr\n",
      "ms\n"
     ]
    }
   ],
   "source": [
    "#write a function to collect one string and return first letter and last letter of the collected string\n",
    "\n",
    "#Input: python\n",
    "#pn\n",
    "\n",
    "def collect_string(str1):\n",
    "    return str1[0] + str1[-1]\n",
    "\n",
    "print(collect_string(\"python\"))\n",
    "print(collect_string(\"computer\"))\n",
    "print(collect_string(\"mathematics\"))\n",
    "\n",
    "\n",
    "\n"
   ]
  },
  {
   "cell_type": "code",
   "execution_count": 15,
   "metadata": {},
   "outputs": [
    {
     "name": "stdout",
     "output_type": "stream",
     "text": [
      "True\n",
      "False\n",
      "False\n"
     ]
    }
   ],
   "source": [
    "#Write a program to check whether number is even or odd\n",
    "\n",
    "def eve_odd_check(number1):\n",
    "    return number1 % 2 == 0\n",
    "\n",
    "print(eve_odd_check(10))\n",
    "print(eve_odd_check(9))\n",
    "print(eve_odd_check(23))"
   ]
  },
  {
   "cell_type": "code",
   "execution_count": 16,
   "metadata": {},
   "outputs": [
    {
     "name": "stdout",
     "output_type": "stream",
     "text": [
      "Even\n",
      "Odd\n",
      "Odd\n"
     ]
    }
   ],
   "source": [
    "def eve_odd_check(number1):\n",
    "    if number1 % 2 == 0:\n",
    "        return \"Even\"\n",
    "    else:\n",
    "        return \"Odd\"\n",
    "\n",
    "\n",
    "print(eve_odd_check(10))\n",
    "print(eve_odd_check(9))\n",
    "print(eve_odd_check(23))"
   ]
  },
  {
   "cell_type": "code",
   "execution_count": null,
   "metadata": {},
   "outputs": [],
   "source": []
  }
 ],
 "metadata": {
  "kernelspec": {
   "display_name": "Python 3",
   "language": "python",
   "name": "python3"
  },
  "language_info": {
   "codemirror_mode": {
    "name": "ipython",
    "version": 3
   },
   "file_extension": ".py",
   "mimetype": "text/x-python",
   "name": "python",
   "nbconvert_exporter": "python",
   "pygments_lexer": "ipython3",
   "version": "3.7.6"
  }
 },
 "nbformat": 4,
 "nbformat_minor": 4
}
