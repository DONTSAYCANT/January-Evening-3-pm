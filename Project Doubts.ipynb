{
 "cells": [
  {
   "cell_type": "code",
   "execution_count": 1,
   "metadata": {},
   "outputs": [
    {
     "name": "stdout",
     "output_type": "stream",
     "text": [
      "please enter number of elements5\n",
      "please enter the element10\n",
      "please enter the element50\n",
      "please enter the element100\n",
      "please enter the element12\n",
      "please enter the element-1\n",
      "[10, 50, 100, 12, -1]\n"
     ]
    }
   ],
   "source": [
    "#How to collect list\n",
    "\n",
    "#number of elements\n",
    "#elements\n",
    "\n",
    "\n",
    "number_elements = int(input(\"please enter number of elements: \"))\n",
    "List_main = []\n",
    "#Set_main = set()\n",
    "\n",
    "for i in range(number_elements):\n",
    "    element = int(input(\"please enter the element: \"))\n",
    "    List_main.append(element)\n",
    "    #Set_main.add(element)\n",
    "    #Dict_main[key] = value\n",
    "    \n",
    "print(List_main)\n",
    "#print(Set_main)"
   ]
  },
  {
   "cell_type": "code",
   "execution_count": null,
   "metadata": {},
   "outputs": [],
   "source": []
  }
 ],
 "metadata": {
  "kernelspec": {
   "display_name": "Python 3",
   "language": "python",
   "name": "python3"
  },
  "language_info": {
   "codemirror_mode": {
    "name": "ipython",
    "version": 3
   },
   "file_extension": ".py",
   "mimetype": "text/x-python",
   "name": "python",
   "nbconvert_exporter": "python",
   "pygments_lexer": "ipython3",
   "version": "3.7.6"
  }
 },
 "nbformat": 4,
 "nbformat_minor": 4
}
