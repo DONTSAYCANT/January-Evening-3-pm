{
 "cells": [
  {
   "cell_type": "markdown",
   "metadata": {},
   "source": [
    "## Data structure Introduction"
   ]
  },
  {
   "cell_type": "code",
   "execution_count": null,
   "metadata": {},
   "outputs": [],
   "source": [
    "#what ?\n",
    "\n",
    "#How to store multiple data/values effectively\n",
    "\n",
    "a = 10\n",
    "\n",
    "b = 20\n",
    "\n",
    "c = \"True\"\n",
    "\n",
    "\n",
    "val = [10 , 20, \"True\", 20.99]"
   ]
  },
  {
   "cell_type": "code",
   "execution_count": null,
   "metadata": {},
   "outputs": [],
   "source": [
    "#BAsic\n",
    "\n",
    "#Heterogenous ===> it can store more than one data type in a single var/data\n",
    "\n",
    "#List\n",
    "\n",
    "#[]\n",
    "#ordered or indexed data structure\n",
    "#Mutable\n",
    "#Allows duplicates\n",
    "#Concatenation is supported\n",
    "\n",
    "\n",
    "#Tuple\n",
    "\n",
    "#() or without braces\n",
    "#ordered or indexed data structure\n",
    "#Immutable\n",
    "#Allows duplicates\n",
    "#Concatenation is supported\n",
    "\n",
    "\n",
    "\n",
    "#Set\n",
    "\n",
    "#{}\n",
    "#ordered or indexed data structure not supported\n",
    "#Mutable\n",
    "#Dont Allows duplicates\n",
    "#Concatenation is not supported\n",
    "\n",
    "\n",
    "#Dictionary\n",
    "\n",
    "#{key:value}\n",
    "#ordered or indexed data structure not supported\n",
    "#Mutable\n",
    "#Dont Allows duplicates keys but duplicate values are possible\n",
    "#Concatenation is not supported\n"
   ]
  },
  {
   "cell_type": "markdown",
   "metadata": {},
   "source": [
    "## List Methods"
   ]
  },
  {
   "cell_type": "code",
   "execution_count": 9,
   "metadata": {},
   "outputs": [
    {
     "name": "stdout",
     "output_type": "stream",
     "text": [
      "[]\n",
      "<class 'list'>\n",
      "[]\n",
      "<class 'list'>\n"
     ]
    }
   ],
   "source": [
    "#How to create an empty list\n",
    "\n",
    "li1 = list() #inbuilt function\n",
    "\n",
    "print(li1)\n",
    "print(type(li1))\n",
    "\n",
    "li1 = [] #inbuilt function\n",
    "\n",
    "print(li1)\n",
    "print(type(li1))"
   ]
  },
  {
   "cell_type": "code",
   "execution_count": 13,
   "metadata": {},
   "outputs": [
    {
     "name": "stdout",
     "output_type": "stream",
     "text": [
      "3\n",
      "c\n",
      "[1, 2, 3, 4, 'Python', 'c', True, 3]\n"
     ]
    }
   ],
   "source": [
    "Li1 = [1,2,3,4, \"Python\", \"c\", True, 3]\n",
    "\n",
    "print(Li1[-1])\n",
    "\n",
    "print(Li1[-3])\n",
    "\n",
    "print(Li1)"
   ]
  },
  {
   "cell_type": "code",
   "execution_count": 14,
   "metadata": {},
   "outputs": [
    {
     "name": "stdout",
     "output_type": "stream",
     "text": [
      "[1, 2, 3, 4, 'true', False, 'python', 3, 4, 5, 10]\n"
     ]
    }
   ],
   "source": [
    "#concatenation\n",
    "\n",
    "Li1 = [1,2,3,4]\n",
    "Li2 = [\"true\", False, \"python\", 3,4,5,10]\n",
    "\n",
    "print(Li1 + Li2)"
   ]
  },
  {
   "cell_type": "code",
   "execution_count": 15,
   "metadata": {},
   "outputs": [
    {
     "name": "stdout",
     "output_type": "stream",
     "text": [
      "[4, 5, 6, 7, 1, 2]\n",
      "[4, 5, 6, 7, 1, 2, 100]\n"
     ]
    }
   ],
   "source": [
    "#Append\n",
    "\n",
    "Li1 = [4,5,6,7,1,2]\n",
    "\n",
    "print(Li1)\n",
    "\n",
    "Li1.append(100)\n",
    "\n",
    "print(Li1)"
   ]
  },
  {
   "cell_type": "code",
   "execution_count": 16,
   "metadata": {},
   "outputs": [
    {
     "name": "stdout",
     "output_type": "stream",
     "text": [
      "[4, 3, 'python', 5, 6, 2]\n"
     ]
    }
   ],
   "source": [
    "#Insert\n",
    "\n",
    "Li1 = [4,3,5,6,2]\n",
    "\n",
    "Li1.insert(2,\"python\") #(index, value)\n",
    "\n",
    "print(Li1)"
   ]
  },
  {
   "cell_type": "code",
   "execution_count": 20,
   "metadata": {},
   "outputs": [
    {
     "name": "stdout",
     "output_type": "stream",
     "text": [
      "[4, 5, 6, 3]\n"
     ]
    }
   ],
   "source": [
    "#remove\n",
    "\n",
    "Li1 = [4,5,6,3,2]\n",
    "\n",
    "Li1.remove(2) #value to be removes\n",
    "\n",
    "print(Li1)"
   ]
  },
  {
   "cell_type": "code",
   "execution_count": 19,
   "metadata": {},
   "outputs": [
    {
     "name": "stdout",
     "output_type": "stream",
     "text": [
      "[5, 6, 3, 2]\n",
      "[5, 3, 2]\n"
     ]
    }
   ],
   "source": [
    "#pop\n",
    "\n",
    "Li1 = [5,6,3,2,1]\n",
    "\n",
    "Li1.pop() #Last element removal\n",
    "\n",
    "print(Li1)\n",
    "\n",
    "Li1.pop(1) #list index based removal\n",
    "\n",
    "print(Li1)"
   ]
  },
  {
   "cell_type": "code",
   "execution_count": 21,
   "metadata": {},
   "outputs": [
    {
     "name": "stdout",
     "output_type": "stream",
     "text": [
      "[3, 4, 5, 6, 'python', 9, 8, 3, 2]\n"
     ]
    }
   ],
   "source": [
    "#extend\n",
    "\n",
    "Li1 = [3,4,5,6]\n",
    "\n",
    "Li2 = [\"python\", 9,8,3,2]\n",
    "\n",
    "Li1.extend(Li2)\n",
    "\n",
    "print(Li1)\n"
   ]
  },
  {
   "cell_type": "code",
   "execution_count": 23,
   "metadata": {},
   "outputs": [
    {
     "name": "stdout",
     "output_type": "stream",
     "text": [
      "4\n"
     ]
    },
    {
     "ename": "ValueError",
     "evalue": "0 is not in list",
     "output_type": "error",
     "traceback": [
      "\u001b[1;31m---------------------------------------------------------------------------\u001b[0m",
      "\u001b[1;31mValueError\u001b[0m                                Traceback (most recent call last)",
      "\u001b[1;32m<ipython-input-23-3b66775d5bd5>\u001b[0m in \u001b[0;36m<module>\u001b[1;34m\u001b[0m\n\u001b[0;32m      4\u001b[0m \u001b[1;33m\u001b[0m\u001b[0m\n\u001b[0;32m      5\u001b[0m \u001b[0mprint\u001b[0m\u001b[1;33m(\u001b[0m\u001b[0mLi1\u001b[0m\u001b[1;33m.\u001b[0m\u001b[0mindex\u001b[0m\u001b[1;33m(\u001b[0m\u001b[1;36m7\u001b[0m\u001b[1;33m)\u001b[0m\u001b[1;33m)\u001b[0m\u001b[1;33m\u001b[0m\u001b[1;33m\u001b[0m\u001b[0m\n\u001b[1;32m----> 6\u001b[1;33m \u001b[0mprint\u001b[0m\u001b[1;33m(\u001b[0m\u001b[0mLi1\u001b[0m\u001b[1;33m.\u001b[0m\u001b[0mindex\u001b[0m\u001b[1;33m(\u001b[0m\u001b[1;36m0\u001b[0m\u001b[1;33m)\u001b[0m\u001b[1;33m)\u001b[0m\u001b[1;33m\u001b[0m\u001b[1;33m\u001b[0m\u001b[0m\n\u001b[0m",
      "\u001b[1;31mValueError\u001b[0m: 0 is not in list"
     ]
    }
   ],
   "source": [
    "#index\n",
    "\n",
    "Li1 = [5,4,3,6,7,2]\n",
    "\n",
    "print(Li1.index(7))\n",
    "print(Li1.index(0))"
   ]
  },
  {
   "cell_type": "code",
   "execution_count": 24,
   "metadata": {},
   "outputs": [
    {
     "name": "stdout",
     "output_type": "stream",
     "text": [
      "2\n"
     ]
    }
   ],
   "source": [
    "#Count \n",
    "\n",
    "Li1 = [4,5,6,3,2,1,1,3]\n",
    "\n",
    "print(Li1.count(3))\n",
    "\n"
   ]
  },
  {
   "cell_type": "code",
   "execution_count": 25,
   "metadata": {},
   "outputs": [
    {
     "name": "stdout",
     "output_type": "stream",
     "text": [
      "[]\n"
     ]
    }
   ],
   "source": [
    "#clear\n",
    "\n",
    "Li1 = [5,4,3,2,1]\n",
    "\n",
    "Li1.clear()\n",
    "\n",
    "print(Li1)"
   ]
  },
  {
   "cell_type": "code",
   "execution_count": 27,
   "metadata": {},
   "outputs": [
    {
     "name": "stdout",
     "output_type": "stream",
     "text": [
      "[5, 4, 10, 2, 0]\n"
     ]
    }
   ],
   "source": [
    "#replacement\n",
    "\n",
    "Li1 = [5,4,3,2,0]\n",
    "\n",
    "Li1[2] = 10\n",
    "\n",
    "print(Li1)"
   ]
  },
  {
   "cell_type": "code",
   "execution_count": 31,
   "metadata": {},
   "outputs": [
    {
     "name": "stdout",
     "output_type": "stream",
     "text": [
      "[4, 5, 3, 2, 0]\n",
      "[4, 5, 3, 2, 0]\n",
      "[4, 5, 3, 100, 0]\n",
      "[4, 5, 3, 100, 0]\n",
      "2583433963144\n",
      "2583433963144\n"
     ]
    }
   ],
   "source": [
    "#copy\n",
    "\n",
    "#Shallow copy\n",
    "Li1 = [4,5,3,2,0]\n",
    "Li2 = Li1\n",
    "\n",
    "print(Li1)\n",
    "print(Li2)\n",
    "\n",
    "Li1[3] = 100\n",
    "\n",
    "print(Li1)\n",
    "print(Li2)\n",
    "\n",
    "print(id(Li1))\n",
    "print(id(Li2))"
   ]
  },
  {
   "cell_type": "code",
   "execution_count": 32,
   "metadata": {},
   "outputs": [
    {
     "name": "stdout",
     "output_type": "stream",
     "text": [
      "[4, 5, 3, 2, 0]\n",
      "[4, 5, 3, 2, 0]\n",
      "[4, 5, 3, 100, 0]\n",
      "[4, 5, 3, 2, 0]\n",
      "2583433963272\n",
      "2583433965128\n"
     ]
    }
   ],
   "source": [
    "#Deep copy\n",
    "Li1 = [4,5,3,2,0]\n",
    "Li2 = Li1.copy()\n",
    "\n",
    "print(Li1)\n",
    "print(Li2)\n",
    "\n",
    "Li1[3] = 100\n",
    "\n",
    "print(Li1)\n",
    "print(Li2)\n",
    "print(id(Li1))\n",
    "print(id(Li2))"
   ]
  },
  {
   "cell_type": "code",
   "execution_count": 33,
   "metadata": {},
   "outputs": [
    {
     "name": "stdout",
     "output_type": "stream",
     "text": [
      "5\n",
      "2\n",
      "6\n",
      "20\n"
     ]
    }
   ],
   "source": [
    "#min max sum len \n",
    "\n",
    "\n",
    "Li1 = [4,5,3,6,2]\n",
    "\n",
    "print(len(Li1))\n",
    "print(min(Li1))\n",
    "print(max(Li1))\n",
    "print(sum(Li1))"
   ]
  },
  {
   "cell_type": "code",
   "execution_count": 35,
   "metadata": {},
   "outputs": [
    {
     "name": "stdout",
     "output_type": "stream",
     "text": [
      "[3, 4, 5]\n"
     ]
    },
    {
     "ename": "NameError",
     "evalue": "name 'Li1' is not defined",
     "output_type": "error",
     "traceback": [
      "\u001b[1;31m---------------------------------------------------------------------------\u001b[0m",
      "\u001b[1;31mNameError\u001b[0m                                 Traceback (most recent call last)",
      "\u001b[1;32m<ipython-input-35-6775859bcf77>\u001b[0m in \u001b[0;36m<module>\u001b[1;34m\u001b[0m\n\u001b[0;32m      9\u001b[0m \u001b[1;32mdel\u001b[0m \u001b[0mLi1\u001b[0m\u001b[1;33m\u001b[0m\u001b[1;33m\u001b[0m\u001b[0m\n\u001b[0;32m     10\u001b[0m \u001b[1;33m\u001b[0m\u001b[0m\n\u001b[1;32m---> 11\u001b[1;33m \u001b[0mprint\u001b[0m\u001b[1;33m(\u001b[0m\u001b[0mLi1\u001b[0m\u001b[1;33m)\u001b[0m\u001b[1;33m\u001b[0m\u001b[1;33m\u001b[0m\u001b[0m\n\u001b[0m",
      "\u001b[1;31mNameError\u001b[0m: name 'Li1' is not defined"
     ]
    }
   ],
   "source": [
    "#del\n",
    "\n",
    "Li1 = [3,4,5,6,7,10]\n",
    "\n",
    "del Li1[3:]\n",
    "\n",
    "print(Li1)\n",
    "\n",
    "del Li1\n",
    "\n",
    "print(Li1)"
   ]
  },
  {
   "cell_type": "code",
   "execution_count": 38,
   "metadata": {},
   "outputs": [
    {
     "name": "stdout",
     "output_type": "stream",
     "text": [
      "[-1, 2, 3, 4, 5, 6, 7, 10]\n",
      "[10, 7, 6, 5, 4, 3, 2, -1]\n"
     ]
    }
   ],
   "source": [
    "#sort\n",
    "\n",
    "Li1 = [4,5,6,7,10,3,2,-1]\n",
    "\n",
    "Li1.sort() #ascending\n",
    "\n",
    "print(Li1)\n",
    "\n",
    "Li1.sort(reverse=True) #descedning\n",
    "\n",
    "print(Li1)\n",
    "\n"
   ]
  },
  {
   "cell_type": "code",
   "execution_count": 39,
   "metadata": {},
   "outputs": [
    {
     "name": "stdout",
     "output_type": "stream",
     "text": [
      "[10, 0, 1000, 100, 6, 5]\n"
     ]
    }
   ],
   "source": [
    "#reverse\n",
    "\n",
    "Li = [5,6,100,1000,0,10]\n",
    "\n",
    "Li.reverse()\n",
    "\n",
    "print(Li)"
   ]
  },
  {
   "cell_type": "markdown",
   "metadata": {},
   "source": [
    "https://www.w3schools.com/python/python_lists.asp\n",
    "https://www.w3schools.com/python/python_lists_methods.asp"
   ]
  },
  {
   "cell_type": "markdown",
   "metadata": {},
   "source": [
    "## Tuple Methods"
   ]
  },
  {
   "cell_type": "code",
   "execution_count": 41,
   "metadata": {},
   "outputs": [
    {
     "name": "stdout",
     "output_type": "stream",
     "text": [
      "()\n",
      "<class 'tuple'>\n",
      "()\n",
      "<class 'tuple'>\n"
     ]
    }
   ],
   "source": [
    "#creation of empty tuple\n",
    "\n",
    "tup1 = ()\n",
    "\n",
    "print(tup1)\n",
    "print(type(tup1))\n",
    "\n",
    "tup1 = tuple()\n",
    "\n",
    "print(tup1)\n",
    "print(type(tup1))"
   ]
  },
  {
   "cell_type": "code",
   "execution_count": 43,
   "metadata": {},
   "outputs": [
    {
     "name": "stdout",
     "output_type": "stream",
     "text": [
      "(10,)\n",
      "<class 'tuple'>\n"
     ]
    }
   ],
   "source": [
    "val = (10,)\n",
    "\n",
    "print(val)\n",
    "print(type(val))"
   ]
  },
  {
   "cell_type": "code",
   "execution_count": 44,
   "metadata": {},
   "outputs": [
    {
     "name": "stdout",
     "output_type": "stream",
     "text": [
      "(10, 20, 30)\n",
      "<class 'tuple'>\n"
     ]
    }
   ],
   "source": [
    "val = 10,20,30\n",
    "\n",
    "print(val)\n",
    "print(type(val))"
   ]
  },
  {
   "cell_type": "code",
   "execution_count": 45,
   "metadata": {},
   "outputs": [
    {
     "ename": "TypeError",
     "evalue": "'tuple' object does not support item assignment",
     "output_type": "error",
     "traceback": [
      "\u001b[1;31m---------------------------------------------------------------------------\u001b[0m",
      "\u001b[1;31mTypeError\u001b[0m                                 Traceback (most recent call last)",
      "\u001b[1;32m<ipython-input-45-27a5cc6d9dcb>\u001b[0m in \u001b[0;36m<module>\u001b[1;34m\u001b[0m\n\u001b[0;32m      3\u001b[0m \u001b[0mtup1\u001b[0m \u001b[1;33m=\u001b[0m \u001b[1;33m(\u001b[0m\u001b[1;36m10\u001b[0m\u001b[1;33m,\u001b[0m\u001b[1;36m20\u001b[0m\u001b[1;33m,\u001b[0m\u001b[1;36m30\u001b[0m\u001b[1;33m)\u001b[0m\u001b[1;33m\u001b[0m\u001b[1;33m\u001b[0m\u001b[0m\n\u001b[0;32m      4\u001b[0m \u001b[1;33m\u001b[0m\u001b[0m\n\u001b[1;32m----> 5\u001b[1;33m \u001b[0mtup1\u001b[0m\u001b[1;33m[\u001b[0m\u001b[1;36m0\u001b[0m\u001b[1;33m]\u001b[0m \u001b[1;33m=\u001b[0m \u001b[1;36m100\u001b[0m\u001b[1;33m\u001b[0m\u001b[1;33m\u001b[0m\u001b[0m\n\u001b[0m\u001b[0;32m      6\u001b[0m \u001b[1;33m\u001b[0m\u001b[0m\n\u001b[0;32m      7\u001b[0m \u001b[0mprint\u001b[0m\u001b[1;33m(\u001b[0m\u001b[0mtup1\u001b[0m\u001b[1;33m)\u001b[0m\u001b[1;33m\u001b[0m\u001b[1;33m\u001b[0m\u001b[0m\n",
      "\u001b[1;31mTypeError\u001b[0m: 'tuple' object does not support item assignment"
     ]
    }
   ],
   "source": [
    "#Immutable\n",
    "\n",
    "tup1 = (10,20,30)\n",
    "\n",
    "tup1[0] = 100\n",
    "\n",
    "print(tup1)"
   ]
  },
  {
   "cell_type": "code",
   "execution_count": 46,
   "metadata": {},
   "outputs": [
    {
     "name": "stdout",
     "output_type": "stream",
     "text": [
      "(3, 4, 5, 6, '10', 30, False)\n"
     ]
    }
   ],
   "source": [
    "#Concatenation\n",
    "\n",
    "tup1 = (3,4,5,6)\n",
    "tup2 = (\"10\", 30, False)\n",
    "\n",
    "print(tup1 + tup2)"
   ]
  },
  {
   "cell_type": "code",
   "execution_count": 47,
   "metadata": {},
   "outputs": [
    {
     "name": "stdout",
     "output_type": "stream",
     "text": [
      "1\n"
     ]
    }
   ],
   "source": [
    "#index\n",
    "\n",
    "tup1 = (4,5,6,7,10)\n",
    "\n",
    "print(tup1.index(5))"
   ]
  },
  {
   "cell_type": "code",
   "execution_count": 48,
   "metadata": {},
   "outputs": [
    {
     "name": "stdout",
     "output_type": "stream",
     "text": [
      "2\n"
     ]
    }
   ],
   "source": [
    "#count\n",
    "\n",
    "tup1 = (4,5 ,6, 10,1,1,1,2,2)\n",
    "\n",
    "print(tup1.count(2))"
   ]
  },
  {
   "cell_type": "code",
   "execution_count": 49,
   "metadata": {},
   "outputs": [
    {
     "name": "stdout",
     "output_type": "stream",
     "text": [
      "9\n",
      "1\n",
      "10\n",
      "32\n"
     ]
    }
   ],
   "source": [
    "#len min max sum\n",
    "\n",
    "print(len(tup1))\n",
    "print(min(tup1))\n",
    "print(max(tup1))\n",
    "print(sum(tup1))"
   ]
  },
  {
   "cell_type": "markdown",
   "metadata": {},
   "source": [
    "## Set methods"
   ]
  },
  {
   "cell_type": "code",
   "execution_count": 51,
   "metadata": {},
   "outputs": [
    {
     "name": "stdout",
     "output_type": "stream",
     "text": [
      "set()\n",
      "<class 'set'>\n"
     ]
    }
   ],
   "source": [
    "#creation of empty set\n",
    "\n",
    "val = set()\n",
    "\n",
    "print(val)\n",
    "print(type(val))"
   ]
  },
  {
   "cell_type": "code",
   "execution_count": 52,
   "metadata": {},
   "outputs": [
    {
     "name": "stdout",
     "output_type": "stream",
     "text": [
      "{1, 2, 3, 4, 5, 6, -2, -1}\n"
     ]
    }
   ],
   "source": [
    "#does not allow duplicates\n",
    "\n",
    "val = {4,5,6,1,2,3,4,-1,-2,3}\n",
    "\n",
    "print(val)"
   ]
  },
  {
   "cell_type": "code",
   "execution_count": 53,
   "metadata": {},
   "outputs": [
    {
     "ename": "TypeError",
     "evalue": "'set' object is not subscriptable",
     "output_type": "error",
     "traceback": [
      "\u001b[1;31m---------------------------------------------------------------------------\u001b[0m",
      "\u001b[1;31mTypeError\u001b[0m                                 Traceback (most recent call last)",
      "\u001b[1;32m<ipython-input-53-433c6ca93ffe>\u001b[0m in \u001b[0;36m<module>\u001b[1;34m\u001b[0m\n\u001b[0;32m      1\u001b[0m \u001b[0mval\u001b[0m \u001b[1;33m=\u001b[0m \u001b[1;33m{\u001b[0m\u001b[1;36m4\u001b[0m\u001b[1;33m,\u001b[0m\u001b[1;36m5\u001b[0m\u001b[1;33m,\u001b[0m\u001b[1;36m6\u001b[0m\u001b[1;33m,\u001b[0m\u001b[1;36m1\u001b[0m\u001b[1;33m,\u001b[0m\u001b[1;36m2\u001b[0m\u001b[1;33m,\u001b[0m\u001b[1;36m3\u001b[0m\u001b[1;33m,\u001b[0m\u001b[1;36m4\u001b[0m\u001b[1;33m,\u001b[0m\u001b[1;33m-\u001b[0m\u001b[1;36m1\u001b[0m\u001b[1;33m,\u001b[0m\u001b[1;33m-\u001b[0m\u001b[1;36m2\u001b[0m\u001b[1;33m,\u001b[0m\u001b[1;36m3\u001b[0m\u001b[1;33m}\u001b[0m\u001b[1;33m\u001b[0m\u001b[1;33m\u001b[0m\u001b[0m\n\u001b[0;32m      2\u001b[0m \u001b[1;33m\u001b[0m\u001b[0m\n\u001b[1;32m----> 3\u001b[1;33m \u001b[0mprint\u001b[0m\u001b[1;33m(\u001b[0m\u001b[0mval\u001b[0m\u001b[1;33m[\u001b[0m\u001b[1;36m0\u001b[0m\u001b[1;33m]\u001b[0m\u001b[1;33m)\u001b[0m\u001b[1;33m\u001b[0m\u001b[1;33m\u001b[0m\u001b[0m\n\u001b[0m",
      "\u001b[1;31mTypeError\u001b[0m: 'set' object is not subscriptable"
     ]
    }
   ],
   "source": [
    "val = {4,5,6,1,2,3,4,-1,-2,3}\n",
    "\n",
    "print(val[0])"
   ]
  },
  {
   "cell_type": "code",
   "execution_count": 54,
   "metadata": {},
   "outputs": [
    {
     "ename": "TypeError",
     "evalue": "unsupported operand type(s) for +: 'set' and 'set'",
     "output_type": "error",
     "traceback": [
      "\u001b[1;31m---------------------------------------------------------------------------\u001b[0m",
      "\u001b[1;31mTypeError\u001b[0m                                 Traceback (most recent call last)",
      "\u001b[1;32m<ipython-input-54-882afcecfdcb>\u001b[0m in \u001b[0;36m<module>\u001b[1;34m\u001b[0m\n\u001b[0;32m      5\u001b[0m \u001b[0mset2\u001b[0m \u001b[1;33m=\u001b[0m \u001b[1;33m{\u001b[0m\u001b[1;36m10\u001b[0m\u001b[1;33m,\u001b[0m \u001b[1;36m20\u001b[0m\u001b[1;33m,\u001b[0m\u001b[1;36m3\u001b[0m\u001b[1;33m,\u001b[0m\u001b[1;36m4\u001b[0m\u001b[1;33m,\u001b[0m\u001b[1;36m5\u001b[0m\u001b[1;33m}\u001b[0m\u001b[1;33m\u001b[0m\u001b[1;33m\u001b[0m\u001b[0m\n\u001b[0;32m      6\u001b[0m \u001b[1;33m\u001b[0m\u001b[0m\n\u001b[1;32m----> 7\u001b[1;33m \u001b[0mprint\u001b[0m\u001b[1;33m(\u001b[0m\u001b[0mset1\u001b[0m \u001b[1;33m+\u001b[0m \u001b[0mset2\u001b[0m\u001b[1;33m)\u001b[0m\u001b[1;33m\u001b[0m\u001b[1;33m\u001b[0m\u001b[0m\n\u001b[0m",
      "\u001b[1;31mTypeError\u001b[0m: unsupported operand type(s) for +: 'set' and 'set'"
     ]
    }
   ],
   "source": [
    "#concatenation not supported\n",
    "\n",
    "set1= {3,4,5,6}\n",
    "\n",
    "set2 = {10, 20,3,4,5}\n",
    "\n",
    "print(set1 + set2)"
   ]
  },
  {
   "cell_type": "code",
   "execution_count": 55,
   "metadata": {},
   "outputs": [
    {
     "name": "stdout",
     "output_type": "stream",
     "text": [
      "{1, 2, 3, 4, 5, 6, -5}\n"
     ]
    }
   ],
   "source": [
    "#add\n",
    "\n",
    "set1 = {4,5,6,3,2,1}\n",
    "\n",
    "set1.add(-5)\n",
    "\n",
    "print(set1)"
   ]
  },
  {
   "cell_type": "code",
   "execution_count": 57,
   "metadata": {},
   "outputs": [
    {
     "name": "stdout",
     "output_type": "stream",
     "text": [
      "{1, 2, 3, 4, 5, 6}\n"
     ]
    }
   ],
   "source": [
    "#update\n",
    "\n",
    "set1 = {3,4,5,2,1}\n",
    "\n",
    "set2 = {5,6,4,3}\n",
    "\n",
    "set1.update(set2)\n",
    "\n",
    "print(set1)"
   ]
  },
  {
   "cell_type": "code",
   "execution_count": 60,
   "metadata": {},
   "outputs": [
    {
     "name": "stdout",
     "output_type": "stream",
     "text": [
      "{1, 3, 4, 5, 6}\n"
     ]
    },
    {
     "ename": "KeyError",
     "evalue": "0",
     "output_type": "error",
     "traceback": [
      "\u001b[1;31m---------------------------------------------------------------------------\u001b[0m",
      "\u001b[1;31mKeyError\u001b[0m                                  Traceback (most recent call last)",
      "\u001b[1;32m<ipython-input-60-a07428cfa6fc>\u001b[0m in \u001b[0;36m<module>\u001b[1;34m\u001b[0m\n\u001b[0;32m      7\u001b[0m \u001b[0mprint\u001b[0m\u001b[1;33m(\u001b[0m\u001b[0mset1\u001b[0m\u001b[1;33m)\u001b[0m\u001b[1;33m\u001b[0m\u001b[1;33m\u001b[0m\u001b[0m\n\u001b[0;32m      8\u001b[0m \u001b[1;33m\u001b[0m\u001b[0m\n\u001b[1;32m----> 9\u001b[1;33m \u001b[0mset1\u001b[0m\u001b[1;33m.\u001b[0m\u001b[0mremove\u001b[0m\u001b[1;33m(\u001b[0m\u001b[1;36m0\u001b[0m\u001b[1;33m)\u001b[0m\u001b[1;33m\u001b[0m\u001b[1;33m\u001b[0m\u001b[0m\n\u001b[0m\u001b[0;32m     10\u001b[0m \u001b[1;33m\u001b[0m\u001b[0m\n\u001b[0;32m     11\u001b[0m \u001b[0mprint\u001b[0m\u001b[1;33m(\u001b[0m\u001b[0mset1\u001b[0m\u001b[1;33m)\u001b[0m\u001b[1;33m\u001b[0m\u001b[1;33m\u001b[0m\u001b[0m\n",
      "\u001b[1;31mKeyError\u001b[0m: 0"
     ]
    }
   ],
   "source": [
    "#remove\n",
    "\n",
    "set1 = {3,4,5,6,7,1}\n",
    "\n",
    "set1.remove(7)\n",
    "\n",
    "print(set1)\n",
    "\n",
    "set1.remove(0)\n",
    "\n",
    "print(set1)\n"
   ]
  },
  {
   "cell_type": "code",
   "execution_count": 61,
   "metadata": {},
   "outputs": [
    {
     "name": "stdout",
     "output_type": "stream",
     "text": [
      "{1, 3, 4, 5, 6}\n",
      "{1, 3, 4, 5, 6}\n"
     ]
    }
   ],
   "source": [
    "#discard\n",
    "\n",
    "set1 = {3,4,5,6,7,1}\n",
    "\n",
    "set1.discard(7)\n",
    "\n",
    "print(set1)\n",
    "\n",
    "set1.discard(0)\n",
    "\n",
    "print(set1)"
   ]
  },
  {
   "cell_type": "code",
   "execution_count": 62,
   "metadata": {},
   "outputs": [
    {
     "name": "stdout",
     "output_type": "stream",
     "text": [
      "{3, 4, 5, 6, -1}\n"
     ]
    }
   ],
   "source": [
    "#pop random ele removal\n",
    "\n",
    "set2= {3,4,5,-1,2,6}\n",
    "\n",
    "set2.pop()\n",
    "\n",
    "print(set2)"
   ]
  },
  {
   "cell_type": "code",
   "execution_count": 66,
   "metadata": {},
   "outputs": [
    {
     "name": "stdout",
     "output_type": "stream",
     "text": [
      "set()\n",
      "3\n",
      "3\n",
      "5\n",
      "12\n",
      "{3, 4, 5}\n"
     ]
    },
    {
     "ename": "NameError",
     "evalue": "name 'set2' is not defined",
     "output_type": "error",
     "traceback": [
      "\u001b[1;31m---------------------------------------------------------------------------\u001b[0m",
      "\u001b[1;31mNameError\u001b[0m                                 Traceback (most recent call last)",
      "\u001b[1;32m<ipython-input-66-175146d7890f>\u001b[0m in \u001b[0;36m<module>\u001b[1;34m\u001b[0m\n\u001b[0;32m     20\u001b[0m \u001b[1;32mdel\u001b[0m \u001b[0mset2\u001b[0m\u001b[1;33m\u001b[0m\u001b[1;33m\u001b[0m\u001b[0m\n\u001b[0;32m     21\u001b[0m \u001b[1;33m\u001b[0m\u001b[0m\n\u001b[1;32m---> 22\u001b[1;33m \u001b[0mprint\u001b[0m\u001b[1;33m(\u001b[0m\u001b[0mset2\u001b[0m\u001b[1;33m)\u001b[0m\u001b[1;33m\u001b[0m\u001b[1;33m\u001b[0m\u001b[0m\n\u001b[0m",
      "\u001b[1;31mNameError\u001b[0m: name 'set2' is not defined"
     ]
    }
   ],
   "source": [
    "#clear / copy / del / sum / min /max /len\n",
    "\n",
    "set1 = {3,4,5}\n",
    "\n",
    "set1.clear()\n",
    "\n",
    "print(set1)\n",
    "\n",
    "set1 = {3,4,5}\n",
    "\n",
    "print(len(set1))\n",
    "print(min(set1))\n",
    "print(max(set1))\n",
    "print(sum(set1))\n",
    "\n",
    "set2 = set1.copy()\n",
    "\n",
    "print(set2)\n",
    "\n",
    "del set2\n",
    "\n",
    "print(set2)"
   ]
  },
  {
   "cell_type": "code",
   "execution_count": 69,
   "metadata": {},
   "outputs": [
    {
     "name": "stdout",
     "output_type": "stream",
     "text": [
      "{2, 3, 4, 5, 6, 7, 10}\n"
     ]
    }
   ],
   "source": [
    "#union\n",
    "\n",
    "\n",
    "set1 = {3,4,5,6}\n",
    "set2 = {4,5,6,7,10,2}\n",
    "\n",
    "set3 = set1.union(set2)\n",
    "\n",
    "print(set3)\n"
   ]
  },
  {
   "cell_type": "code",
   "execution_count": 70,
   "metadata": {},
   "outputs": [
    {
     "name": "stdout",
     "output_type": "stream",
     "text": [
      "{4, 5, 6}\n",
      "{4, 5, 6}\n"
     ]
    }
   ],
   "source": [
    "#intersection #intersection update\n",
    "\n",
    "\n",
    "set1 = {3,4,5,6}\n",
    "set2 = {4,5,6,7,10,2}\n",
    "\n",
    "set3 = set1.intersection(set2)\n",
    "\n",
    "print(set3)\n",
    "\n",
    "\n",
    "set1 = {3,4,5,6}\n",
    "set2 = {4,5,6,7,10,2}\n",
    "\n",
    "set1.intersection_update(set2)\n",
    "\n",
    "print(set1)"
   ]
  },
  {
   "cell_type": "code",
   "execution_count": 71,
   "metadata": {},
   "outputs": [
    {
     "name": "stdout",
     "output_type": "stream",
     "text": [
      "{2, 3, 7, 10}\n",
      "{2, 3, 7, 10}\n"
     ]
    }
   ],
   "source": [
    "#symmetric difference and symmetric difference update\n",
    "\n",
    "set1 = {3,4,5,6}\n",
    "set2 = {4,5,6,7,10,2}\n",
    "\n",
    "set3 = set1.symmetric_difference(set2)\n",
    "\n",
    "print(set3)\n",
    "\n",
    "\n",
    "set1 = {3,4,5,6}\n",
    "set2 = {4,5,6,7,10,2}\n",
    "\n",
    "set1.symmetric_difference_update(set2)\n",
    "\n",
    "print(set1)"
   ]
  },
  {
   "cell_type": "code",
   "execution_count": 73,
   "metadata": {},
   "outputs": [
    {
     "name": "stdout",
     "output_type": "stream",
     "text": [
      "{2, 10, 7}\n",
      "{3}\n"
     ]
    }
   ],
   "source": [
    "#differnce  difference_update\n",
    "\n",
    "set1 = {3,4,5,6}\n",
    "set2 = {4,5,6,7,10,2}\n",
    "\n",
    "set3 = set2.difference(set1)\n",
    "\n",
    "print(set3)\n",
    "\n",
    "\n",
    "set1 = {3,4,5,6}\n",
    "set2 = {4,5,6,7,10,2}\n",
    "\n",
    "set1.difference_update(set2)\n",
    "\n",
    "print(set1)"
   ]
  },
  {
   "cell_type": "code",
   "execution_count": 76,
   "metadata": {},
   "outputs": [
    {
     "name": "stdout",
     "output_type": "stream",
     "text": [
      "False\n",
      "True\n"
     ]
    }
   ],
   "source": [
    "#isdisjoint\n",
    "\n",
    "set1 ={3,4,5,6}\n",
    "\n",
    "set2 = {3,2,1}\n",
    "\n",
    "set3 = {7,8}\n",
    "\n",
    "\n",
    "print(set1.isdisjoint(set2))\n",
    "print(set3.isdisjoint(set2))"
   ]
  },
  {
   "cell_type": "code",
   "execution_count": 78,
   "metadata": {},
   "outputs": [
    {
     "name": "stdout",
     "output_type": "stream",
     "text": [
      "True\n",
      "True\n"
     ]
    }
   ],
   "source": [
    "#sisubset is uperset\n",
    "\n",
    "set1 ={3,4,5,6}\n",
    "\n",
    "set2 = {3,4}\n",
    "\n",
    "set3 = {7,8}\n",
    "\n",
    "print(set1.issuperset(set2))\n",
    "print(set2.issubset(set1))"
   ]
  },
  {
   "cell_type": "markdown",
   "metadata": {},
   "source": [
    "## Dictionary Methods"
   ]
  },
  {
   "cell_type": "code",
   "execution_count": 80,
   "metadata": {},
   "outputs": [
    {
     "name": "stdout",
     "output_type": "stream",
     "text": [
      "<class 'dict'>\n",
      "<class 'dict'>\n",
      "{1: 20, 2: 20, 4: 'python'}\n",
      "<class 'dict'>\n"
     ]
    }
   ],
   "source": [
    "#creation of empty dictionary\n",
    "\n",
    "\n",
    "a = {}\n",
    "\n",
    "print(type(a))\n",
    "\n",
    "a = dict()\n",
    "\n",
    "print(type(a))\n",
    "\n",
    "\n",
    "a = {1:20, 2:20, 4:\"python\"}\n",
    "\n",
    "print(a)\n",
    "\n",
    "print(type(a))"
   ]
  },
  {
   "cell_type": "code",
   "execution_count": 82,
   "metadata": {},
   "outputs": [
    {
     "ename": "KeyError",
     "evalue": "0",
     "output_type": "error",
     "traceback": [
      "\u001b[1;31m---------------------------------------------------------------------------\u001b[0m",
      "\u001b[1;31mKeyError\u001b[0m                                  Traceback (most recent call last)",
      "\u001b[1;32m<ipython-input-82-dc96ecd881e8>\u001b[0m in \u001b[0;36m<module>\u001b[1;34m\u001b[0m\n\u001b[0;32m      3\u001b[0m \u001b[0ma\u001b[0m \u001b[1;33m=\u001b[0m \u001b[1;33m{\u001b[0m\u001b[1;36m1\u001b[0m\u001b[1;33m:\u001b[0m\u001b[1;36m20\u001b[0m\u001b[1;33m,\u001b[0m \u001b[1;36m2\u001b[0m\u001b[1;33m:\u001b[0m\u001b[1;36m20\u001b[0m\u001b[1;33m,\u001b[0m \u001b[1;36m4\u001b[0m\u001b[1;33m:\u001b[0m\u001b[1;34m\"python\"\u001b[0m\u001b[1;33m}\u001b[0m\u001b[1;33m\u001b[0m\u001b[1;33m\u001b[0m\u001b[0m\n\u001b[0;32m      4\u001b[0m \u001b[1;33m\u001b[0m\u001b[0m\n\u001b[1;32m----> 5\u001b[1;33m \u001b[0mprint\u001b[0m\u001b[1;33m(\u001b[0m\u001b[0ma\u001b[0m\u001b[1;33m[\u001b[0m\u001b[1;36m0\u001b[0m\u001b[1;33m]\u001b[0m\u001b[1;33m)\u001b[0m\u001b[1;33m\u001b[0m\u001b[1;33m\u001b[0m\u001b[0m\n\u001b[0m\u001b[0;32m      6\u001b[0m \u001b[1;33m\u001b[0m\u001b[0m\n\u001b[0;32m      7\u001b[0m \u001b[1;31m#indexing ==> key\u001b[0m\u001b[1;33m\u001b[0m\u001b[1;33m\u001b[0m\u001b[1;33m\u001b[0m\u001b[0m\n",
      "\u001b[1;31mKeyError\u001b[0m: 0"
     ]
    }
   ],
   "source": [
    "#indexing not supperted\n",
    "\n",
    "a = {1:20, 2:20, 4:\"python\"}\n",
    "\n",
    "print(a[0])\n",
    "\n",
    "#indexing ==> key\n",
    "\n"
   ]
  },
  {
   "cell_type": "code",
   "execution_count": 84,
   "metadata": {},
   "outputs": [
    {
     "name": "stdout",
     "output_type": "stream",
     "text": [
      "python\n",
      "20\n"
     ]
    }
   ],
   "source": [
    "a = {1:20, 2:20, 4:\"python\"}\n",
    "\n",
    "print(a[4])\n",
    "\n",
    "print(a.get(1))"
   ]
  },
  {
   "cell_type": "code",
   "execution_count": 85,
   "metadata": {},
   "outputs": [
    {
     "name": "stdout",
     "output_type": "stream",
     "text": [
      "{1: 100, 2: 20, 4: 'python', 5: 20}\n"
     ]
    }
   ],
   "source": [
    "a = {1:20, 2:20, 4:\"python\", 1:100, 5:20}\n",
    "\n",
    "print(a)"
   ]
  },
  {
   "cell_type": "code",
   "execution_count": 87,
   "metadata": {},
   "outputs": [
    {
     "name": "stdout",
     "output_type": "stream",
     "text": [
      "{1: 100, 2: 20, 4: 'python', 5: 20, 6: 600}\n",
      "{1: 1000, 2: 20, 4: 'python', 5: 20, 6: 600}\n"
     ]
    }
   ],
   "source": [
    "#add a element or rplace a element in dictionary\n",
    "\n",
    "a = {1:20, 2:20, 4:\"python\", 1:100, 5:20}\n",
    "\n",
    "\n",
    "a[6] = 600\n",
    "\n",
    "print(a)\n",
    "\n",
    "a[1] = 1000\n",
    "\n",
    "print(a)\n",
    "\n"
   ]
  },
  {
   "cell_type": "code",
   "execution_count": 88,
   "metadata": {},
   "outputs": [
    {
     "name": "stdout",
     "output_type": "stream",
     "text": [
      "{1: 100, 2: 20, 4: 40, 5: 20, 10: 20, 30: 3}\n"
     ]
    }
   ],
   "source": [
    "a = {1:20, 2:20, 4:\"python\", 1:100, 5:20}\n",
    "\n",
    "\n",
    "a.update({4:40, 10:20, 30:3})\n",
    "\n",
    "print(a)"
   ]
  },
  {
   "cell_type": "code",
   "execution_count": 89,
   "metadata": {},
   "outputs": [
    {
     "name": "stdout",
     "output_type": "stream",
     "text": [
      "{1: 100, 2: 20, 4: 'python'}\n"
     ]
    }
   ],
   "source": [
    "#pop\n",
    "\n",
    "a = {1:20, 2:20, 4:\"python\", 1:100, 5:20}\n",
    "\n",
    "\n",
    "a.pop(5)\n",
    "\n",
    "print(a)"
   ]
  },
  {
   "cell_type": "code",
   "execution_count": 91,
   "metadata": {},
   "outputs": [
    {
     "name": "stdout",
     "output_type": "stream",
     "text": [
      "{1: 100, 2: 20, 4: 'python'}\n"
     ]
    }
   ],
   "source": [
    "#pop item\n",
    "\n",
    "a = {1:20, 2:20, 4:\"python\", 1:100, 5:20}\n",
    "\n",
    "\n",
    "a.popitem()\n",
    "\n",
    "print(a)\n"
   ]
  },
  {
   "cell_type": "code",
   "execution_count": 92,
   "metadata": {},
   "outputs": [
    {
     "name": "stdout",
     "output_type": "stream",
     "text": [
      "dict_keys([1, 2, 4, 5])\n",
      "dict_values([100, 20, 'python', 20])\n",
      "dict_items([(1, 100), (2, 20), (4, 'python'), (5, 20)])\n"
     ]
    }
   ],
   "source": [
    "a = {1:20, 2:20, 4:\"python\", 1:100, 5:20}\n",
    "\n",
    "\n",
    "print(a.keys())\n",
    "\n",
    "print(a.values())\n",
    "\n",
    "print(a.items())"
   ]
  },
  {
   "cell_type": "code",
   "execution_count": 95,
   "metadata": {},
   "outputs": [
    {
     "name": "stdout",
     "output_type": "stream",
     "text": [
      "4\n",
      "1\n",
      "5\n",
      "12\n",
      "{1: 100, 2: 20, 4: 'python', 5: 20}\n",
      "{}\n"
     ]
    }
   ],
   "source": [
    "#len sum min max clear copy del\n",
    "\n",
    "\n",
    "a = {1:20, 2:20, 4:\"python\", 1:100, 5:20}\n",
    "\n",
    "\n",
    "print(len(a))\n",
    "print(min(a))\n",
    "print(max(a))\n",
    "print(sum(a))\n",
    "\n",
    "b = a.copy()\n",
    "\n",
    "del a\n",
    "\n",
    "print(b)\n",
    "\n",
    "b.clear()\n",
    "\n",
    "print(b)\n",
    "\n"
   ]
  },
  {
   "cell_type": "markdown",
   "metadata": {},
   "source": [
    "## Nested Data structure"
   ]
  },
  {
   "cell_type": "code",
   "execution_count": 99,
   "metadata": {},
   "outputs": [
    {
     "name": "stdout",
     "output_type": "stream",
     "text": [
      "science\n"
     ]
    }
   ],
   "source": [
    "Li1 = [10, 20, True, \"social science\", 20.99, \"python\"]\n",
    "\n",
    "#science\n",
    "#social\n",
    "#on\n",
    "\n",
    "print(Li1[3][-7:])"
   ]
  },
  {
   "cell_type": "code",
   "execution_count": 100,
   "metadata": {},
   "outputs": [
    {
     "name": "stdout",
     "output_type": "stream",
     "text": [
      "6\n"
     ]
    }
   ],
   "source": [
    "li1 = [3,4,5,6,[5,6,7,10]]\n",
    "\n",
    "print(li1[-1][-3])"
   ]
  },
  {
   "cell_type": "code",
   "execution_count": 101,
   "metadata": {},
   "outputs": [
    {
     "name": "stdout",
     "output_type": "stream",
     "text": [
      "4\n"
     ]
    }
   ],
   "source": [
    "a = {1:20, 2:20, 4:\"python\", 3:[10,20,50,4], 5:20}\n",
    "\n",
    "print(a[3][-1])\n"
   ]
  },
  {
   "cell_type": "markdown",
   "metadata": {},
   "source": [
    "## Data Structure conversions "
   ]
  },
  {
   "cell_type": "code",
   "execution_count": null,
   "metadata": {},
   "outputs": [],
   "source": [
    "list()\n",
    "\n",
    "tuple\n",
    "\n",
    "dict\n",
    "\n",
    "set()\n",
    "\n",
    "\n"
   ]
  },
  {
   "cell_type": "code",
   "execution_count": 102,
   "metadata": {},
   "outputs": [
    {
     "name": "stdout",
     "output_type": "stream",
     "text": [
      "[1, 2, 3, 4, 5, 6, 7]\n"
     ]
    }
   ],
   "source": [
    "Li1 = [4,5,6,3,2,1,1,1,7]\n",
    "\n",
    "print(list(set(Li1)))"
   ]
  },
  {
   "cell_type": "code",
   "execution_count": 103,
   "metadata": {},
   "outputs": [
    {
     "name": "stdout",
     "output_type": "stream",
     "text": [
      "(4, 5, 6, 7)\n"
     ]
    }
   ],
   "source": [
    "val = {4,5,6,7}\n",
    "\n",
    "print(tuple(val))"
   ]
  },
  {
   "cell_type": "code",
   "execution_count": 106,
   "metadata": {},
   "outputs": [
    {
     "name": "stdout",
     "output_type": "stream",
     "text": [
      "[(3, 10), (4, 20), (5, 30), (6, 40), (7, 50)]\n",
      "{3: 10, 4: 20, 5: 30, 6: 40, 7: 50}\n"
     ]
    }
   ],
   "source": [
    "#dictionary\n",
    "\n",
    "Li1 = [3,4,5,6,7]\n",
    "\n",
    "Li2 = [10,20,30,40,50]\n",
    "\n",
    "val = zip(Li1, Li2)\n",
    "\n",
    "print(list(val))\n",
    "\n",
    "val = zip(Li1, Li2)\n",
    "\n",
    "print(dict(val))"
   ]
  }
 ],
 "metadata": {
  "kernelspec": {
   "display_name": "Python 3",
   "language": "python",
   "name": "python3"
  },
  "language_info": {
   "codemirror_mode": {
    "name": "ipython",
    "version": 3
   },
   "file_extension": ".py",
   "mimetype": "text/x-python",
   "name": "python",
   "nbconvert_exporter": "python",
   "pygments_lexer": "ipython3",
   "version": "3.7.6"
  }
 },
 "nbformat": 4,
 "nbformat_minor": 4
}
