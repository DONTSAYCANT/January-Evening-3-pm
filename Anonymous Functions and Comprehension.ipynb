{
 "cells": [
  {
   "cell_type": "code",
   "execution_count": 2,
   "metadata": {},
   "outputs": [
    {
     "name": "stdout",
     "output_type": "stream",
     "text": [
      "343\n",
      "512\n"
     ]
    }
   ],
   "source": [
    "#Anonymous Functions:\n",
    "\n",
    "\n",
    "#Reducing number of lines in the code\n",
    "\n",
    "\n",
    "#Normal function\n",
    "\n",
    "def cube(x):\n",
    "    return x ** 3\n",
    "\n",
    "print(cube(7))\n",
    "\n",
    "#Lambda \n",
    "\n",
    "cube = lambda x : x ** 3\n",
    "print(cube(8))"
   ]
  },
  {
   "cell_type": "code",
   "execution_count": 5,
   "metadata": {},
   "outputs": [
    {
     "name": "stdout",
     "output_type": "stream",
     "text": [
      "512\n"
     ]
    }
   ],
   "source": [
    "#With two args\n",
    "\n",
    "\n",
    "multiply = lambda x,y : x ** y\n",
    "print(multiply(8, 3))"
   ]
  },
  {
   "cell_type": "code",
   "execution_count": 6,
   "metadata": {},
   "outputs": [
    {
     "name": "stdout",
     "output_type": "stream",
     "text": [
      "[64, 125, 216, 27, 8, 343, 1000]\n"
     ]
    }
   ],
   "source": [
    "#Map \n",
    "\n",
    "#inbuilt function\n",
    "\n",
    "#map(operation, DS)\n",
    "\n",
    "\n",
    "\n",
    "#normal \n",
    "\n",
    "li1 = [4,5,6,3,2,7,10]\n",
    "li2 = []\n",
    "\n",
    "\n",
    "for i in li1:\n",
    "    li2.append(i**3)\n",
    "\n",
    "print(li2)\n",
    "\n"
   ]
  },
  {
   "cell_type": "code",
   "execution_count": 7,
   "metadata": {},
   "outputs": [
    {
     "name": "stdout",
     "output_type": "stream",
     "text": [
      "[64, 125, 216, 27, 8, 343, 1000]\n"
     ]
    }
   ],
   "source": [
    "#map with lambda function\n",
    "\n",
    "li1 = [4,5,6,3,2,7,10]\n",
    "\n",
    "li2 = list(map(lambda x : x ** 3,li1))\n",
    "\n",
    "print(li2)"
   ]
  },
  {
   "cell_type": "code",
   "execution_count": 8,
   "metadata": {},
   "outputs": [
    {
     "name": "stdout",
     "output_type": "stream",
     "text": [
      "[64, 125, 216, 27, 8, 343, 1000]\n"
     ]
    }
   ],
   "source": [
    "#map with user def function\n",
    "\n",
    "def cube(x):\n",
    "    return x ** 3\n",
    "\n",
    "li1 = [4,5,6,3,2,7,10]\n",
    "\n",
    "li2 = list(map(cube,li1))\n",
    "\n",
    "print(li2)"
   ]
  },
  {
   "cell_type": "code",
   "execution_count": 9,
   "metadata": {},
   "outputs": [
    {
     "name": "stdout",
     "output_type": "stream",
     "text": [
      "[10, 20, 30, 5, 60, 6, 12]\n"
     ]
    }
   ],
   "source": [
    "#\"10 20 30 5 60 6 12\"  ==> [10,20,30,5,60,6,12]\n",
    "\n",
    "#Map with inbuilt function\n",
    "\n",
    "li1 = \"10 20 30 5 60 6 12\"\n",
    "\n",
    "li2 = list(map(int,li1.split()))\n",
    "\n",
    "print(li2)\n"
   ]
  },
  {
   "cell_type": "code",
   "execution_count": null,
   "metadata": {},
   "outputs": [],
   "source": [
    "#Filter"
   ]
  },
  {
   "cell_type": "code",
   "execution_count": 11,
   "metadata": {},
   "outputs": [
    {
     "name": "stdout",
     "output_type": "stream",
     "text": [
      "[4, 6, 2, 10]\n"
     ]
    }
   ],
   "source": [
    "li1 = [4,5,6,3,2,7,10]\n",
    "\n",
    "li2 = list(filter(lambda x : x % 2 == 0,li1))\n",
    "\n",
    "print(li2)"
   ]
  },
  {
   "cell_type": "code",
   "execution_count": 13,
   "metadata": {},
   "outputs": [
    {
     "name": "stdout",
     "output_type": "stream",
     "text": [
      "[4, 6, 2, 10]\n"
     ]
    }
   ],
   "source": [
    "def even_check(x):\n",
    "    return x % 2 == 0\n",
    "\n",
    "li1 = [4,5,6,3,2,7,10]\n",
    "\n",
    "li2 = list(filter(even_check,li1))\n",
    "\n",
    "print(li2)"
   ]
  },
  {
   "cell_type": "code",
   "execution_count": 14,
   "metadata": {},
   "outputs": [
    {
     "name": "stdout",
     "output_type": "stream",
     "text": [
      "5040\n"
     ]
    }
   ],
   "source": [
    "#Reduce\n",
    "\n",
    "\n",
    "from functools import reduce\n",
    "\n",
    "Li1 = [4,5,6,3,7,2,1]\n",
    "\n",
    "val = reduce(lambda x,y: x * y, Li1)\n",
    "\n",
    "print(val)\n"
   ]
  },
  {
   "cell_type": "code",
   "execution_count": 15,
   "metadata": {},
   "outputs": [],
   "source": [
    "#Comprehension"
   ]
  },
  {
   "cell_type": "code",
   "execution_count": null,
   "metadata": {},
   "outputs": [],
   "source": [
    "#List comprehension\n",
    "\n",
    "li1 = [4,5,6,3,2,7,10]\n",
    "li2 = []\n",
    "\n",
    "\n",
    "for i in li1:\n",
    "    li2.append(i**3)\n",
    "\n",
    "print(li2)"
   ]
  },
  {
   "cell_type": "code",
   "execution_count": 16,
   "metadata": {},
   "outputs": [
    {
     "name": "stdout",
     "output_type": "stream",
     "text": [
      "[64, 125, 216, 27, 8, 343, 1000]\n"
     ]
    }
   ],
   "source": [
    "li1 = [4,5,6,3,2,7,10]\n",
    "\n",
    "li2 = [i**3 for i in li1]\n",
    "\n",
    "print(li2)"
   ]
  },
  {
   "cell_type": "code",
   "execution_count": 17,
   "metadata": {},
   "outputs": [
    {
     "name": "stdout",
     "output_type": "stream",
     "text": [
      "[64, 216, 8, 1000]\n"
     ]
    }
   ],
   "source": [
    "li1 = [4,5,6,3,2,7,10]\n",
    "\n",
    "li2 = [i**3 for i in li1 if i % 2 == 0]\n",
    "\n",
    "print(li2)"
   ]
  },
  {
   "cell_type": "code",
   "execution_count": 19,
   "metadata": {},
   "outputs": [
    {
     "name": "stdout",
     "output_type": "stream",
     "text": [
      "['EVEN', 'ODD', 'EVEN', 'ODD', 'EVEN', 'ODD', 'EVEN']\n"
     ]
    }
   ],
   "source": [
    "li1 = [4,5,6,3,2,7,10]\n",
    "\n",
    "li2 = [\"EVEN\"  if i % 2 == 0 else \"ODD\" for i in li1]\n",
    "\n",
    "print(li2)"
   ]
  },
  {
   "cell_type": "code",
   "execution_count": 20,
   "metadata": {},
   "outputs": [
    {
     "name": "stdout",
     "output_type": "stream",
     "text": [
      "{64, 8, 1000, 343, 216, 27, 125}\n"
     ]
    }
   ],
   "source": [
    "li1 = [4,5,6,3,2,7,10]\n",
    "\n",
    "li2 = {i**3 for i in li1}\n",
    "\n",
    "print(li2)"
   ]
  },
  {
   "cell_type": "code",
   "execution_count": 21,
   "metadata": {},
   "outputs": [
    {
     "name": "stdout",
     "output_type": "stream",
     "text": [
      "{4: 64, 5: 125, 6: 216, 3: 27, 2: 8, 7: 343, 10: 1000}\n"
     ]
    }
   ],
   "source": [
    "li1 = [4,5,6,3,2,7,10]\n",
    "\n",
    "li2 = {i:i**3 for i in li1}\n",
    "\n",
    "print(li2)"
   ]
  },
  {
   "cell_type": "code",
   "execution_count": 23,
   "metadata": {},
   "outputs": [
    {
     "name": "stdout",
     "output_type": "stream",
     "text": [
      "<generator object <genexpr> at 0x0000024B36D70748>\n",
      "(64, 125, 216, 27, 8, 343, 1000)\n"
     ]
    }
   ],
   "source": [
    "li1 = [4,5,6,3,2,7,10]\n",
    "\n",
    "li2 = (i**3 for i in li1)\n",
    "\n",
    "print(li2)\n",
    "print(tuple(li2))"
   ]
  },
  {
   "cell_type": "code",
   "execution_count": null,
   "metadata": {},
   "outputs": [],
   "source": []
  }
 ],
 "metadata": {
  "kernelspec": {
   "display_name": "Python 3",
   "language": "python",
   "name": "python3"
  },
  "language_info": {
   "codemirror_mode": {
    "name": "ipython",
    "version": 3
   },
   "file_extension": ".py",
   "mimetype": "text/x-python",
   "name": "python",
   "nbconvert_exporter": "python",
   "pygments_lexer": "ipython3",
   "version": "3.7.6"
  }
 },
 "nbformat": 4,
 "nbformat_minor": 4
}
