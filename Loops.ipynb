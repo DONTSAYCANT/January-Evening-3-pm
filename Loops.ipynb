{
 "cells": [
  {
   "cell_type": "code",
   "execution_count": null,
   "metadata": {},
   "outputs": [],
   "source": [
    "#Loop ?\n",
    "\n",
    "\n",
    "#Execute particular code/statement multiple times\n",
    "\n",
    "#Range function ?\n",
    "\n",
    "#key words: for while in(membership operator) break continue pass\n",
    "\n",
    "\n",
    "#For loop\n",
    "==========\n",
    "\n",
    "#For with data structure (list, tuple, set, dictionary)\n",
    "#For with range (range function)\n",
    "#For with string\n",
    "\n",
    "#break pass continue\n",
    "#For else\n",
    "\n",
    "#for with if \n",
    "\n",
    "\n",
    "\n",
    "#while loop\n",
    "==============\n",
    "\n",
    "#while with condition\n",
    "#purpose of while and for ?\n",
    "#while else\n",
    "\n",
    "\n",
    "\n",
    "\n"
   ]
  },
  {
   "cell_type": "code",
   "execution_count": 1,
   "metadata": {},
   "outputs": [
    {
     "name": "stdout",
     "output_type": "stream",
     "text": [
      "[0, 1, 2, 3, 4, 5, 6, 7, 8, 9]\n",
      "[2, 3, 4, 5, 6, 7, 8, 9, 10, 11, 12, 13, 14]\n",
      "[-5, -4, -3, -2, -1, 0, 1, 2, 3, 4]\n",
      "[10, 9, 8, 7, 6, 5, 4, 3]\n",
      "[10, 20, 30, 40, 50, 60, 70, 80, 90]\n",
      "[10, 12, 14, 16, 18]\n"
     ]
    }
   ],
   "source": [
    "#Range function ==> slicing\n",
    "\n",
    "print(list(range(10)))\n",
    "print(list(range(2,15)))\n",
    "print(list(range(-5,5)))\n",
    "print(list(range(10,2,-1)))\n",
    "print(list(range(10,100,10)))\n",
    "print(list(range(10,20,2)))\n"
   ]
  },
  {
   "cell_type": "code",
   "execution_count": 3,
   "metadata": {},
   "outputs": [
    {
     "name": "stdout",
     "output_type": "stream",
     "text": [
      "hello world\n",
      "hello world\n",
      "hello world\n",
      "hello world\n",
      "hello world\n",
      "hello world\n",
      "hello world\n",
      "hello world\n",
      "hello world\n",
      "hello world\n"
     ]
    }
   ],
   "source": [
    "print(\"hello world\")\n",
    "print(\"hello world\")\n",
    "print(\"hello world\")\n",
    "print(\"hello world\")\n",
    "print(\"hello world\")\n",
    "print(\"hello world\")\n",
    "print(\"hello world\")\n",
    "print(\"hello world\")\n",
    "print(\"hello world\")\n",
    "print(\"hello world\")"
   ]
  },
  {
   "cell_type": "code",
   "execution_count": 5,
   "metadata": {},
   "outputs": [
    {
     "name": "stdout",
     "output_type": "stream",
     "text": [
      "hello wrold\n",
      "hello wrold\n",
      "hello wrold\n",
      "hello wrold\n",
      "hello wrold\n",
      "hello wrold\n",
      "hello wrold\n",
      "hello wrold\n",
      "hello wrold\n",
      "hello wrold\n"
     ]
    }
   ],
   "source": [
    "for i in range(10000):\n",
    "    print(\"hello wrold\")"
   ]
  },
  {
   "cell_type": "code",
   "execution_count": null,
   "metadata": {},
   "outputs": [],
   "source": [
    "for <temp_var> in DS:\n",
    "    <code1>\n",
    "    <code2>"
   ]
  },
  {
   "cell_type": "code",
   "execution_count": 6,
   "metadata": {},
   "outputs": [
    {
     "name": "stdout",
     "output_type": "stream",
     "text": [
      "3\n",
      "4\n",
      "5\n",
      "6\n",
      "10\n",
      "0\n",
      "1\n",
      "2\n",
      "3\n"
     ]
    }
   ],
   "source": [
    "#For with Data structure:\n",
    "\n",
    "Li1 = [3,4,5,6,10,0,1,2,3]\n",
    "\n",
    "for var in Li1:\n",
    "    print(var)"
   ]
  },
  {
   "cell_type": "code",
   "execution_count": 10,
   "metadata": {},
   "outputs": [
    {
     "name": "stdout",
     "output_type": "stream",
     "text": [
      "3\n",
      "4\n",
      "5\n",
      "6\n",
      "10\n",
      "0\n",
      "1\n",
      "2\n",
      "3\n",
      "-1\n"
     ]
    }
   ],
   "source": [
    "#iterating through tuple\n",
    "Li1 = (3,4,5,6,10,0,1,2,3,-1)\n",
    "\n",
    "for var in Li1:\n",
    "    print(var)"
   ]
  },
  {
   "cell_type": "code",
   "execution_count": 9,
   "metadata": {},
   "outputs": [
    {
     "name": "stdout",
     "output_type": "stream",
     "text": [
      "0\n",
      "1\n",
      "2\n",
      "3\n",
      "4\n",
      "5\n",
      "6\n",
      "10\n",
      "-1\n"
     ]
    }
   ],
   "source": [
    "#iterating through set\n",
    "Li1 = {3,4,5,6,10,0,1,2,3,-1}\n",
    "\n",
    "for var in Li1:\n",
    "    print(var)"
   ]
  },
  {
   "cell_type": "code",
   "execution_count": 11,
   "metadata": {},
   "outputs": [
    {
     "name": "stdout",
     "output_type": "stream",
     "text": [
      "1\n",
      "0\n",
      "3\n",
      "4\n",
      "-3\n"
     ]
    }
   ],
   "source": [
    "dict1 = {1:\"go\", 0:\"python\", 3:\"cpp\", 4:\"java\", -3:\"typescript\"}\n",
    "\n",
    "for i in dict1: #by default keys iteration will happen\n",
    "    print(i)"
   ]
  },
  {
   "cell_type": "code",
   "execution_count": 12,
   "metadata": {},
   "outputs": [
    {
     "name": "stdout",
     "output_type": "stream",
     "text": [
      "1\n",
      "0\n",
      "3\n",
      "4\n",
      "-3\n"
     ]
    }
   ],
   "source": [
    "for i in dict1.keys():\n",
    "    print(i)"
   ]
  },
  {
   "cell_type": "code",
   "execution_count": 13,
   "metadata": {},
   "outputs": [
    {
     "name": "stdout",
     "output_type": "stream",
     "text": [
      "go\n",
      "python\n",
      "cpp\n",
      "java\n",
      "typescript\n"
     ]
    }
   ],
   "source": [
    "for i in dict1.values():\n",
    "    print(i)"
   ]
  },
  {
   "cell_type": "code",
   "execution_count": 14,
   "metadata": {},
   "outputs": [
    {
     "name": "stdout",
     "output_type": "stream",
     "text": [
      "(1, 'go')\n",
      "(0, 'python')\n",
      "(3, 'cpp')\n",
      "(4, 'java')\n",
      "(-3, 'typescript')\n"
     ]
    }
   ],
   "source": [
    "for i in dict1.items():\n",
    "    print(i)"
   ]
  },
  {
   "cell_type": "code",
   "execution_count": 16,
   "metadata": {},
   "outputs": [
    {
     "name": "stdout",
     "output_type": "stream",
     "text": [
      "1\n",
      "go\n",
      "0\n",
      "python\n",
      "3\n",
      "cpp\n",
      "4\n",
      "java\n",
      "-3\n",
      "typescript\n"
     ]
    }
   ],
   "source": [
    "for i in dict1:\n",
    "    print(i)\n",
    "    print(dict1[i])"
   ]
  },
  {
   "cell_type": "code",
   "execution_count": 19,
   "metadata": {},
   "outputs": [
    {
     "name": "stdout",
     "output_type": "stream",
     "text": [
      "4950\n"
     ]
    }
   ],
   "source": [
    "#Li1 = [1,2,3,4,5,6,......]\n",
    "\n",
    "sum = 0\n",
    "for i in range(1,100):\n",
    "    sum = sum + i\n",
    "print(sum)"
   ]
  },
  {
   "cell_type": "code",
   "execution_count": null,
   "metadata": {},
   "outputs": [],
   "source": [
    "#For loop purpse\n",
    "\n",
    "#Iterating Data strucuture \n",
    "#Iterating with coount"
   ]
  },
  {
   "cell_type": "code",
   "execution_count": 20,
   "metadata": {},
   "outputs": [
    {
     "name": "stdout",
     "output_type": "stream",
     "text": [
      "p\n",
      "y\n",
      "t\n",
      "h\n",
      "o\n",
      "n\n"
     ]
    }
   ],
   "source": [
    "#For loop with string:\n",
    "\n",
    "str = \"python\"\n",
    "\n",
    "for i in str:\n",
    "    print(i)"
   ]
  },
  {
   "cell_type": "code",
   "execution_count": 22,
   "metadata": {},
   "outputs": [
    {
     "name": "stdout",
     "output_type": "stream",
     "text": [
      "['o']\n",
      "['p', 'y', 't', 'h', 'n']\n"
     ]
    }
   ],
   "source": [
    "str = \"python\"\n",
    "vowel = []\n",
    "non_vowel = []\n",
    "\n",
    "for i in str:\n",
    "    if i in \"aeiou\":\n",
    "        vowel.append(i)\n",
    "    else:\n",
    "        non_vowel.append(i)\n",
    "        \n",
    "print(vowel)\n",
    "print(non_vowel)"
   ]
  },
  {
   "cell_type": "code",
   "execution_count": 25,
   "metadata": {},
   "outputs": [
    {
     "name": "stdout",
     "output_type": "stream",
     "text": [
      "even list [10]\n",
      "odd list []\n",
      "even list [10, 6]\n",
      "odd list []\n",
      "even list [10, 6, 4]\n",
      "odd list []\n",
      "even list [10, 6, 4]\n",
      "odd list [5]\n",
      "even list [10, 6, 4]\n",
      "odd list [5, 11]\n",
      "even list [10, 6, 4]\n",
      "odd list [5, 11, 13]\n",
      "even list [10, 6, 4]\n",
      "odd list [5, 11, 13, 15]\n",
      "even list [10, 6, 4, 16]\n",
      "odd list [5, 11, 13, 15]\n",
      "even list [10, 6, 4, 16, 2]\n",
      "odd list [5, 11, 13, 15]\n",
      "even list [10, 6, 4, 16, 2, 8]\n",
      "odd list [5, 11, 13, 15]\n"
     ]
    }
   ],
   "source": [
    "Li1 = [10,6,4,5,11,13,15,16,2,8]\n",
    "\n",
    "even = []\n",
    "odd = []\n",
    "\n",
    "for number in Li1:\n",
    "    if number %2 == 0:\n",
    "        even.append(number)\n",
    "    else:\n",
    "        odd.append(number)    \n",
    "    print(\"even list\", even)\n",
    "    print(\"odd list\", odd)"
   ]
  },
  {
   "cell_type": "code",
   "execution_count": 27,
   "metadata": {},
   "outputs": [
    {
     "name": "stdout",
     "output_type": "stream",
     "text": [
      "10\n",
      "11\n",
      "12\n",
      "13\n",
      "14\n",
      "16\n",
      "17\n",
      "19\n",
      "20\n",
      "21\n",
      "22\n",
      "23\n",
      "24\n"
     ]
    }
   ],
   "source": [
    "#for with break continue pass\n",
    "\n",
    "#break ===> come out of the loop permanently\n",
    "#continue ==> come out of the loop temper (for that iteration)\n",
    "\n",
    "#continue\n",
    "\n",
    "for i in range(10,25):\n",
    "    if i == 15 or i == 18:\n",
    "        continue\n",
    "    print(i)"
   ]
  },
  {
   "cell_type": "code",
   "execution_count": 28,
   "metadata": {},
   "outputs": [
    {
     "name": "stdout",
     "output_type": "stream",
     "text": [
      "10\n",
      "11\n",
      "12\n",
      "13\n",
      "14\n"
     ]
    }
   ],
   "source": [
    "#break\n",
    "\n",
    "for i in range(10,25):\n",
    "    if i == 15 or i == 18:\n",
    "        break\n",
    "    print(i)"
   ]
  },
  {
   "cell_type": "code",
   "execution_count": 29,
   "metadata": {},
   "outputs": [
    {
     "name": "stdout",
     "output_type": "stream",
     "text": [
      "10\n",
      "11\n",
      "12\n",
      "13\n",
      "14\n",
      "15\n",
      "16\n",
      "17\n",
      "18\n",
      "19\n",
      "20\n",
      "21\n",
      "22\n",
      "23\n",
      "24\n"
     ]
    }
   ],
   "source": [
    "#pass ==> line filler\n",
    "for i in range(10,25):\n",
    "    if i == 15 or i == 18:\n",
    "        pass\n",
    "    print(i)"
   ]
  },
  {
   "cell_type": "code",
   "execution_count": 31,
   "metadata": {},
   "outputs": [
    {
     "name": "stdout",
     "output_type": "stream",
     "text": [
      "10\n",
      "11\n",
      "12\n",
      "13\n",
      "14\n"
     ]
    }
   ],
   "source": [
    "#for else\n",
    "\n",
    "#break else :==> if else\n",
    "\n",
    "for i in range(10,25): #if all the iteration happened prpoerly\n",
    "    if i == 15 or i == 18:\n",
    "        break\n",
    "    print(i)\n",
    "else:\n",
    "    print(\"complete loop execution happened\")\n",
    "    "
   ]
  },
  {
   "cell_type": "code",
   "execution_count": 30,
   "metadata": {},
   "outputs": [
    {
     "name": "stdout",
     "output_type": "stream",
     "text": [
      "10\n",
      "11\n",
      "12\n",
      "13\n",
      "14\n",
      "15\n",
      "16\n",
      "17\n",
      "18\n",
      "19\n",
      "20\n",
      "21\n",
      "22\n",
      "23\n",
      "24\n",
      "complete loop execution happened\n"
     ]
    }
   ],
   "source": [
    "\n",
    "for i in range(10,25):\n",
    "    if i == 30:\n",
    "        break\n",
    "    print(i)\n",
    "else:\n",
    "    print(\"complete loop execution happened\")"
   ]
  },
  {
   "cell_type": "code",
   "execution_count": null,
   "metadata": {},
   "outputs": [],
   "source": [
    "Li1 = [\"cpp\", \"c\", \"java\"]\n",
    "\n"
   ]
  },
  {
   "cell_type": "code",
   "execution_count": 32,
   "metadata": {},
   "outputs": [
    {
     "name": "stdout",
     "output_type": "stream",
     "text": [
      "a value is  10\n",
      "a value is  9\n",
      "a value is  8\n",
      "a value is  7\n",
      "a value is  6\n"
     ]
    }
   ],
   "source": [
    "#while loop\n",
    "\n",
    "#condition\n",
    "\n",
    "a = 10\n",
    "\n",
    "while a > 5:\n",
    "    print(\"a value is \", a)\n",
    "    a = a - 1\n",
    "\n",
    "    #infinite loop"
   ]
  },
  {
   "cell_type": "code",
   "execution_count": null,
   "metadata": {},
   "outputs": [],
   "source": [
    "While <boolean>:\n",
    "    <code1>\n",
    "    <code2>\n",
    "    <when while will come out>"
   ]
  },
  {
   "cell_type": "code",
   "execution_count": 33,
   "metadata": {},
   "outputs": [
    {
     "name": "stdout",
     "output_type": "stream",
     "text": [
      "a value is  10\n",
      "a value is  9\n",
      "a value is  8\n"
     ]
    }
   ],
   "source": [
    "#while with break\n",
    "\n",
    "a = 10\n",
    "\n",
    "while a > 5:\n",
    "    print(\"a value is \", a)\n",
    "    a = a - 1\n",
    "    \n",
    "    if a == 7:\n",
    "        break"
   ]
  },
  {
   "cell_type": "code",
   "execution_count": 35,
   "metadata": {},
   "outputs": [
    {
     "name": "stdout",
     "output_type": "stream",
     "text": [
      "a value is  10\n",
      "a value is  9\n",
      "a value is  8\n",
      "a value is  7\n",
      "a value is  6\n",
      "complete execution/iteration happened\n"
     ]
    }
   ],
   "source": [
    "\n",
    "a = 10\n",
    "\n",
    "while a > 5:\n",
    "    print(\"a value is \", a)\n",
    "    a = a - 1\n",
    "    \n",
    "    if a == 7:\n",
    "        continue\n",
    "else:\n",
    "    print(\"complete execution/iteration happened\")"
   ]
  },
  {
   "cell_type": "code",
   "execution_count": null,
   "metadata": {},
   "outputs": [],
   "source": []
  }
 ],
 "metadata": {
  "kernelspec": {
   "display_name": "Python 3",
   "language": "python",
   "name": "python3"
  },
  "language_info": {
   "codemirror_mode": {
    "name": "ipython",
    "version": 3
   },
   "file_extension": ".py",
   "mimetype": "text/x-python",
   "name": "python",
   "nbconvert_exporter": "python",
   "pygments_lexer": "ipython3",
   "version": "3.7.6"
  }
 },
 "nbformat": 4,
 "nbformat_minor": 4
}
