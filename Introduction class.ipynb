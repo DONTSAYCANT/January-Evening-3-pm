{
 "cells": [
  {
   "cell_type": "code",
   "execution_count": null,
   "metadata": {},
   "outputs": [],
   "source": [
    "Step1:\n",
    "    \n",
    "\n",
    "IDLE python : interpreter for python IDE integrated Dev Environment\n",
    "\n",
    "pycharm\n",
    "jupyter\n",
    "IDLE python\n",
    "\n",
    "\n",
    "https://www.python.org/downloads/\n",
    "    \n",
    "    \n",
    "Step2:\n",
    "       \n",
    "\n",
    "Hackerrank.com \n",
    "\n",
    "https://www.hackerrank.com/\n",
    "\n",
    "\n",
    "\n",
    "Step3:\n",
    "    \n",
    "\n",
    "Github.com\n",
    "\n",
    "https://github.com/\n"
   ]
  }
 ],
 "metadata": {
  "kernelspec": {
   "display_name": "Python 3",
   "language": "python",
   "name": "python3"
  },
  "language_info": {
   "codemirror_mode": {
    "name": "ipython",
    "version": 3
   },
   "file_extension": ".py",
   "mimetype": "text/x-python",
   "name": "python",
   "nbconvert_exporter": "python",
   "pygments_lexer": "ipython3",
   "version": "3.7.6"
  }
 },
 "nbformat": 4,
 "nbformat_minor": 4
}
