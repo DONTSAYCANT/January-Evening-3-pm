{
 "cells": [
  {
   "cell_type": "code",
   "execution_count": null,
   "metadata": {},
   "outputs": [],
   "source": [
    "Step1:\n",
    "    \n",
    "\n",
    "IDLE python : interpreter for python IDE integrated Dev Environment\n",
    "\n",
    "pycharm\n",
    "jupyter\n",
    "IDLE python\n",
    "\n",
    "\n",
    "https://www.python.org/downloads/\n",
    "    \n",
    "    \n",
    "Step2:\n",
    "       \n",
    "\n",
    "Hackerrank.com \n",
    "\n",
    "https://www.hackerrank.com/\n",
    "\n",
    "\n",
    "\n",
    "Step3:\n",
    "    \n",
    "\n",
    "Github.com\n",
    "\n",
    "https://github.com/\n"
   ]
  },
  {
   "cell_type": "code",
   "execution_count": null,
   "metadata": {},
   "outputs": [],
   "source": [
    "#Variable and its rule\n",
    "#Datatype\n",
    "#comments single line comment and multi line comment\n",
    "#Data type conversion\n",
    "#operators\n",
    "\n",
    "\n"
   ]
  },
  {
   "cell_type": "code",
   "execution_count": 3,
   "metadata": {},
   "outputs": [
    {
     "name": "stdout",
     "output_type": "stream",
     "text": [
      "20\n",
      "140719417959408\n",
      "140719417959728\n"
     ]
    }
   ],
   "source": [
    "#Variable and its rule\n",
    "\n",
    "\n",
    "#Storing purpose\n",
    "\n",
    "a = 10\n",
    "\n",
    "b = 20\n",
    "\n",
    "c = \"python\"\n",
    "\n",
    "#Give some useful name to the variable\n",
    "\n",
    "log_regression = \"file_name\"\n",
    "\n",
    "number_user_1 = 20\n",
    "number_user_2 = 30\n",
    "\n",
    "#Variable names can have alphabets a-z A-Z 0-9 _\n",
    "\n",
    "value1 = 20\n",
    "value2 = 30\n",
    "value3 = 40\n",
    "value_56 = \"go\"\n",
    "\n",
    "#Dont use special characters in variable names\n",
    "\n",
    "#variable$1 = 20\n",
    "#print(variable$1)\n",
    "\n",
    "#Dont start variable names with numbers\n",
    "\n",
    "variable1 = 20\n",
    "\n",
    "print(variable1)\n",
    "\n",
    "#1variable = 20\n",
    "\n",
    "\n",
    "#Variables are case sensitive\n",
    "\n",
    "value1 = 20\n",
    "Value1 = 30\n",
    "\n",
    "print(id(value1))\n",
    "print(id(value2))\n",
    "\n",
    "#CamelCase\n",
    "\n",
    "\n",
    "suiteRegistrationName = \"suite\"\n",
    "\n",
    "#dont use space in variable name\n",
    "\n",
    "variable_1 = 20\n",
    "\n",
    "\n",
    "\n"
   ]
  },
  {
   "cell_type": "code",
   "execution_count": 4,
   "metadata": {},
   "outputs": [
    {
     "name": "stdout",
     "output_type": "stream",
     "text": [
      "<class 'int'>\n",
      "<class 'float'>\n",
      "<class 'str'>\n",
      "<class 'str'>\n",
      "<class 'str'>\n",
      "<class 'bool'>\n",
      "<class 'bool'>\n",
      "<class 'complex'>\n"
     ]
    }
   ],
   "source": [
    "#Datatype\n",
    "\n",
    "#Type ===> For identifying datatype/data structure of variable\n",
    "\n",
    "#type of data\n",
    "\n",
    "#int\n",
    "a = 10\n",
    "print(type(a))\n",
    "\n",
    "#float\n",
    "\n",
    "b = 20.99\n",
    "print(type(b))\n",
    "\n",
    "#string ===>whatever available within \" \" or ' '  ==> Global datatype\n",
    "\n",
    "c = \"python\"\n",
    "c1 = \"10\"\n",
    "c2 = \"20.99\"\n",
    "\n",
    "print(type(c))\n",
    "print(type(c1))\n",
    "print(type(c2))\n",
    "\n",
    "#bool\n",
    "d = True\n",
    "e = False\n",
    "\n",
    "print(type(d))\n",
    "print(type(e))\n",
    "\n",
    "#complex\n",
    "\n",
    "f = 4 + 6j\n",
    "print(type(f))"
   ]
  },
  {
   "cell_type": "code",
   "execution_count": 6,
   "metadata": {},
   "outputs": [
    {
     "name": "stdout",
     "output_type": "stream",
     "text": [
      "30\n",
      "<class 'int'>\n"
     ]
    }
   ],
   "source": [
    "#comments  Single comment  Multi line comment or Doc string\n",
    "\n",
    "#If a line starts with # ===> single line comments whatever availble there will not exexute\n",
    "\n",
    "#Documentation purpose\n",
    "\n",
    "\n",
    "a = 10\n",
    "\n",
    "b = 20\n",
    "\n",
    "c = a + b\n",
    "\n",
    "#Single line comment\n",
    "#Multiple line comment\n",
    "\n",
    "'''\n",
    "print(a)\n",
    "print(b)\n",
    "'''\n",
    "\n",
    "\"\"\"\n",
    "print(\"multi line comments check\")\n",
    "print(\"this is also called as doc strings\")\n",
    "\"\"\"\n",
    "\n",
    "print(c)\n",
    "print(type(c))"
   ]
  },
  {
   "cell_type": "code",
   "execution_count": 8,
   "metadata": {},
   "outputs": [
    {
     "name": "stdout",
     "output_type": "stream",
     "text": [
      "1\n",
      "4\n",
      "4\n",
      "5\n"
     ]
    }
   ],
   "source": [
    "#operators\n",
    "\n",
    "#Arithmetic operators + - * / // % **\n",
    "\n",
    "\n",
    "print(3 + 9) #Add\n",
    "print(9 - 8) #sub\n",
    "print(-3 * -4) #multiply\n",
    "print(12 / 5) #Div\n",
    "\n",
    "\n",
    "#power\n",
    "\n",
    "print(3 ** 4) #81\n",
    "print(4 ** 3) #64\n",
    "print(2 ** 4) #16\n",
    "print(4 ** 2) #16\n",
    "\n",
    "\n",
    "#Modulus\n",
    "\n",
    "print(10 % 3) #1\n",
    "print(20 % 8) #4\n",
    "print(30 % 13) #4\n",
    "print(5 % 6) #5\n",
    "\n",
    "\n",
    "\n",
    "#Floor Divison (int as output)\n",
    "\n",
    "\n",
    "print(5 // 2) #2\n",
    "\n",
    "#Do usual divison #2.5\n",
    "#Draw a number scale \n",
    "#-5 -4 -3 -2 -1 0 1 2 3 4 5\n",
    "#2 is the output\n",
    "\n",
    "print(-5 // 2) #-3\n",
    "\n",
    "#-2.5\n",
    "#\n",
    "\n",
    "#1.6\n",
    "#\n",
    "\n",
    "print(7 // 3)  #2\n",
    "print(-7 // 4) #-2\n",
    "print(10 // 6) #1\n",
    "print(20 // 3) #6\n",
    "print(-20 // 3) #-7\n",
    "\n",
    "\n",
    "\n",
    "\n",
    "\n",
    "\n",
    "\n"
   ]
  },
  {
   "cell_type": "code",
   "execution_count": 17,
   "metadata": {},
   "outputs": [
    {
     "name": "stdout",
     "output_type": "stream",
     "text": [
      "False\n",
      "True\n",
      "False\n",
      "True\n",
      "False\n",
      "True\n"
     ]
    }
   ],
   "source": [
    "\n",
    "\n",
    "#Comparison operator (always boolean output) ===> Conditional statements\n",
    "\n",
    "'''\n",
    "<\n",
    ">\n",
    "<=\n",
    ">=\n",
    "==\n",
    "!=\n",
    "'''\n",
    "\n",
    "print(3 >= 9)\n",
    "print(3 != 10)\n",
    "\n",
    "#Logical operator\n",
    "\n",
    "#and or not\n",
    "\n",
    "print(3 > 9 and 10 !=8)\n",
    "\n",
    "\n",
    "#Assignment operator\n",
    "\n",
    "#=\n",
    "var = 10\n",
    "\n",
    "#Membership operator #boolean datatype\n",
    "\n",
    "#in\n",
    "\n",
    "print(\"on\" in \"python\")\n",
    "print(\"zz\" in \"python\")\n",
    "print(\"zz\" not in \"python\")"
   ]
  },
  {
   "cell_type": "code",
   "execution_count": null,
   "metadata": {},
   "outputs": [],
   "source": [
    "#print\n",
    "#len\n",
    "#type\n",
    "#id\n",
    "\n",
    "\n"
   ]
  },
  {
   "cell_type": "code",
   "execution_count": 22,
   "metadata": {},
   "outputs": [
    {
     "name": "stdout",
     "output_type": "stream",
     "text": [
      "a\n",
      "10\n",
      "a\n",
      "10 20\n",
      "10 20 30 40\n",
      "hello\n",
      "hello\n"
     ]
    }
   ],
   "source": [
    "#print ==> printing arguement\n",
    "\n",
    "a = 10\n",
    "\n",
    "print(\"a\") #a\n",
    "print(a) #variable #10\n",
    "print('a') #a\n",
    "\n",
    "print(10,20)\n",
    "\n",
    "print(10,20,30,40)\n",
    "\n",
    "print(\"hello\")\n",
    "#print(hello) #program will stop here\n",
    "print('hello')\n",
    "\n"
   ]
  },
  {
   "cell_type": "code",
   "execution_count": 25,
   "metadata": {},
   "outputs": [
    {
     "name": "stdout",
     "output_type": "stream",
     "text": [
      "hello*welcome\tto\n",
      "python\n",
      "class\n"
     ]
    }
   ],
   "source": [
    "#end sep parameter in python\n",
    "\n",
    "print(\"hello\", end=\"*\") #===> print(\"hello\")\n",
    "print(\"welcome\", end = \"\\t\")\n",
    "print(\"to\")\n",
    "print(\"python\")\n",
    "print(\"class\")"
   ]
  },
  {
   "cell_type": "code",
   "execution_count": 28,
   "metadata": {},
   "outputs": [
    {
     "name": "stdout",
     "output_type": "stream",
     "text": [
      "to python  class      hello\n"
     ]
    }
   ],
   "source": [
    "print(\"to\", end=\" \")\n",
    "print(\"python\", end=\"  \")\n",
    "print(\"class\", end=\"      \")\n",
    "print(\"hello\")"
   ]
  },
  {
   "cell_type": "code",
   "execution_count": 30,
   "metadata": {},
   "outputs": [
    {
     "name": "stdout",
     "output_type": "stream",
     "text": [
      "hello\n",
      "welcome\n",
      "to\n",
      "python\n",
      "class\n"
     ]
    }
   ],
   "source": [
    "print(\"hello\",\"welcome\",\"to\",\"python\",\"class\", sep=\"\\n\")"
   ]
  },
  {
   "cell_type": "code",
   "execution_count": 31,
   "metadata": {},
   "outputs": [
    {
     "name": "stdout",
     "output_type": "stream",
     "text": [
      "hello**welcome**to**python**class\n"
     ]
    }
   ],
   "source": [
    "print(\"hello\",\"welcome\",\"to\",\"python\",\"class\", sep=\"**\")"
   ]
  },
  {
   "cell_type": "code",
   "execution_count": 33,
   "metadata": {},
   "outputs": [
    {
     "name": "stdout",
     "output_type": "stream",
     "text": [
      "6\n"
     ]
    },
    {
     "ename": "TypeError",
     "evalue": "object of type 'int' has no len()",
     "output_type": "error",
     "traceback": [
      "\u001b[1;31m---------------------------------------------------------------------------\u001b[0m",
      "\u001b[1;31mTypeError\u001b[0m                                 Traceback (most recent call last)",
      "\u001b[1;32m<ipython-input-33-b8aa170f2caf>\u001b[0m in \u001b[0;36m<module>\u001b[1;34m\u001b[0m\n\u001b[0;32m      7\u001b[0m \u001b[0mb\u001b[0m \u001b[1;33m=\u001b[0m \u001b[1;36m25\u001b[0m\u001b[1;33m\u001b[0m\u001b[1;33m\u001b[0m\u001b[0m\n\u001b[0;32m      8\u001b[0m \u001b[1;33m\u001b[0m\u001b[0m\n\u001b[1;32m----> 9\u001b[1;33m \u001b[0mprint\u001b[0m\u001b[1;33m(\u001b[0m\u001b[0mlen\u001b[0m\u001b[1;33m(\u001b[0m\u001b[0mb\u001b[0m\u001b[1;33m)\u001b[0m\u001b[1;33m)\u001b[0m\u001b[1;33m\u001b[0m\u001b[1;33m\u001b[0m\u001b[0m\n\u001b[0m",
      "\u001b[1;31mTypeError\u001b[0m: object of type 'int' has no len()"
     ]
    }
   ],
   "source": [
    "#len ==> length of string or Data structure\n",
    "\n",
    "a = \"python\"\n",
    "\n",
    "print(len(a))\n",
    "\n",
    "b = 25\n",
    "\n",
    "#print(len(b))"
   ]
  },
  {
   "cell_type": "code",
   "execution_count": null,
   "metadata": {},
   "outputs": [],
   "source": [
    "#type ==> data type or type of data structure\n",
    "\n",
    "#id ==> identifier ===> address start space\n",
    "\n"
   ]
  },
  {
   "cell_type": "code",
   "execution_count": null,
   "metadata": {},
   "outputs": [],
   "source": [
    "#Data type conversion\n"
   ]
  },
  {
   "cell_type": "code",
   "execution_count": 35,
   "metadata": {},
   "outputs": [
    {
     "name": "stdout",
     "output_type": "stream",
     "text": [
      "10\n",
      "<class 'int'>\n",
      "10.0\n",
      "<class 'float'>\n"
     ]
    }
   ],
   "source": [
    "#int\n",
    "#float\n",
    "#bool\n",
    "#str\n",
    "\n",
    "\n",
    "a = 10\n",
    "\n",
    "print(a)\n",
    "print(type(a))\n",
    "\n",
    "b = float(a)\n",
    "\n",
    "print(b)\n",
    "print(type(b))"
   ]
  },
  {
   "cell_type": "code",
   "execution_count": null,
   "metadata": {},
   "outputs": [],
   "source": [
    "#input\n",
    "#Format method\n",
    "#Programs"
   ]
  },
  {
   "cell_type": "code",
   "execution_count": 1,
   "metadata": {},
   "outputs": [
    {
     "ename": "ValueError",
     "evalue": "invalid literal for int() with base 10: 'python'",
     "output_type": "error",
     "traceback": [
      "\u001b[1;31m---------------------------------------------------------------------------\u001b[0m",
      "\u001b[1;31mValueError\u001b[0m                                Traceback (most recent call last)",
      "\u001b[1;32m<ipython-input-1-2e744bda928c>\u001b[0m in \u001b[0;36m<module>\u001b[1;34m\u001b[0m\n\u001b[0;32m      1\u001b[0m \u001b[0ma\u001b[0m \u001b[1;33m=\u001b[0m \u001b[1;34m\"python\"\u001b[0m\u001b[1;33m\u001b[0m\u001b[1;33m\u001b[0m\u001b[0m\n\u001b[0;32m      2\u001b[0m \u001b[1;33m\u001b[0m\u001b[0m\n\u001b[1;32m----> 3\u001b[1;33m \u001b[0mprint\u001b[0m\u001b[1;33m(\u001b[0m\u001b[0mint\u001b[0m\u001b[1;33m(\u001b[0m\u001b[0ma\u001b[0m\u001b[1;33m)\u001b[0m\u001b[1;33m)\u001b[0m\u001b[1;33m\u001b[0m\u001b[1;33m\u001b[0m\u001b[0m\n\u001b[0m",
      "\u001b[1;31mValueError\u001b[0m: invalid literal for int() with base 10: 'python'"
     ]
    }
   ],
   "source": [
    "a = \"python\"\n",
    "\n",
    "print(int(a))\n",
    "\n",
    "#Conversion of any data type to string ===> possible ===> Global data type"
   ]
  },
  {
   "cell_type": "code",
   "execution_count": 2,
   "metadata": {},
   "outputs": [
    {
     "name": "stdout",
     "output_type": "stream",
     "text": [
      "10\n"
     ]
    }
   ],
   "source": [
    "a = \"10\"\n",
    "\n",
    "print(int(a))\n"
   ]
  },
  {
   "cell_type": "code",
   "execution_count": 7,
   "metadata": {},
   "outputs": [
    {
     "name": "stdout",
     "output_type": "stream",
     "text": [
      "please enter a string : 34\n",
      "34\n",
      "<class 'str'>\n"
     ]
    }
   ],
   "source": [
    "#Input ===> for collecting input from the user\n",
    "\n",
    "a = 10\n",
    "b = 20\n",
    "\n",
    "c = input(\"please enter a string : \") #Inbuilt function to collect input from user default: string \n",
    "\n",
    "print(c)\n",
    "print(type(c))\n"
   ]
  },
  {
   "cell_type": "code",
   "execution_count": 9,
   "metadata": {},
   "outputs": [
    {
     "name": "stdout",
     "output_type": "stream",
     "text": [
      "please enter an integer: python\n"
     ]
    },
    {
     "ename": "ValueError",
     "evalue": "invalid literal for int() with base 10: 'python'",
     "output_type": "error",
     "traceback": [
      "\u001b[1;31m---------------------------------------------------------------------------\u001b[0m",
      "\u001b[1;31mValueError\u001b[0m                                Traceback (most recent call last)",
      "\u001b[1;32m<ipython-input-9-59e251e892ff>\u001b[0m in \u001b[0;36m<module>\u001b[1;34m\u001b[0m\n\u001b[1;32m----> 1\u001b[1;33m \u001b[0mint_input\u001b[0m \u001b[1;33m=\u001b[0m \u001b[0mint\u001b[0m\u001b[1;33m(\u001b[0m\u001b[0minput\u001b[0m\u001b[1;33m(\u001b[0m\u001b[1;34m\"please enter an integer: \"\u001b[0m\u001b[1;33m)\u001b[0m\u001b[1;33m)\u001b[0m\u001b[1;33m\u001b[0m\u001b[1;33m\u001b[0m\u001b[0m\n\u001b[0m\u001b[0;32m      2\u001b[0m \u001b[1;33m\u001b[0m\u001b[0m\n\u001b[0;32m      3\u001b[0m \u001b[0mprint\u001b[0m\u001b[1;33m(\u001b[0m\u001b[0mint_input\u001b[0m\u001b[1;33m)\u001b[0m\u001b[1;33m\u001b[0m\u001b[1;33m\u001b[0m\u001b[0m\n",
      "\u001b[1;31mValueError\u001b[0m: invalid literal for int() with base 10: 'python'"
     ]
    }
   ],
   "source": [
    "int_input = int(input(\"please enter an integer: \"))\n",
    "\n",
    "float_input = float(input(\"please enter a floating vlaue: \"))\n",
    "\n",
    "bool_input = bool(input(\"please enter a boolean input\"))\n",
    "\n",
    "str_input = input(\"please enter a string: \")\n",
    "\n",
    "print(int_input)"
   ]
  },
  {
   "cell_type": "code",
   "execution_count": 19,
   "metadata": {},
   "outputs": [
    {
     "name": "stdout",
     "output_type": "stream",
     "text": [
      "please enter radius (float) value: 1.9\n",
      "please enter height (float) value 5.8\n",
      "21\n",
      "The volume of cone is  21\n",
      "The volume of cone with radius 1.9 and height 5.8 is 21 \n",
      "The volume of cone with  height 5.8 and radius 1.9 is 21 \n"
     ]
    }
   ],
   "source": [
    "#volume of cone \n",
    "\n",
    "pi = 3.14\n",
    "radius = float(input(\"please enter radius (float) value: \"))\n",
    "height = float(input(\"please enter height (float) value \"))\n",
    "\n",
    "Volume = int(1/3 * pi * (radius ** 2) * height)\n",
    "\n",
    "print(Volume)\n",
    "\n",
    "print(\"The volume of cone is \",Volume)\n",
    "\n",
    "print(\"The volume of cone with radius {} and height {} is {} \".format(radius, height, Volume))\n",
    "\n",
    "print(\"The volume of cone with  height {1} and radius {0} is {2} \".format(radius, height, Volume))\n",
    "\n"
   ]
  },
  {
   "cell_type": "code",
   "execution_count": null,
   "metadata": {},
   "outputs": [],
   "source": [
    "#Formula : Avg : (mark1 / 4 + mark2 / 4 + mark3 / 2) ==> int\n",
    "\n",
    "#collect mark1 from user (int)\n",
    "#collect mark2 from user (int)\n",
    "#collect mark3 from user (int)\n",
    "#collect name from the user (string)\n",
    "\n",
    "#Output:\n",
    "\n",
    "Hi User_name !!! your marks are mark1, mark2 and mark3 and your average mark is avg %"
   ]
  },
  {
   "cell_type": "code",
   "execution_count": null,
   "metadata": {},
   "outputs": [],
   "source": []
  }
 ],
 "metadata": {
  "kernelspec": {
   "display_name": "Python 3",
   "language": "python",
   "name": "python3"
  },
  "language_info": {
   "codemirror_mode": {
    "name": "ipython",
    "version": 3
   },
   "file_extension": ".py",
   "mimetype": "text/x-python",
   "name": "python",
   "nbconvert_exporter": "python",
   "pygments_lexer": "ipython3",
   "version": "3.7.6"
  }
 },
 "nbformat": 4,
 "nbformat_minor": 4
}
