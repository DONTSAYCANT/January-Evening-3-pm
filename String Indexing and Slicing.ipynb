{
 "cells": [
  {
   "cell_type": "code",
   "execution_count": 1,
   "metadata": {},
   "outputs": [
    {
     "name": "stdout",
     "output_type": "stream",
     "text": [
      "\n"
     ]
    },
    {
     "ename": "TypeError",
     "evalue": "type() takes 1 or 3 arguments",
     "output_type": "error",
     "traceback": [
      "\u001b[1;31m---------------------------------------------------------------------------\u001b[0m",
      "\u001b[1;31mTypeError\u001b[0m                                 Traceback (most recent call last)",
      "\u001b[1;32m<ipython-input-1-7ef50ee0937b>\u001b[0m in \u001b[0;36m<module>\u001b[1;34m\u001b[0m\n\u001b[0;32m     13\u001b[0m \u001b[1;33m\u001b[0m\u001b[0m\n\u001b[0;32m     14\u001b[0m \u001b[0mprint\u001b[0m\u001b[1;33m(\u001b[0m\u001b[1;33m)\u001b[0m\u001b[1;33m\u001b[0m\u001b[1;33m\u001b[0m\u001b[0m\n\u001b[1;32m---> 15\u001b[1;33m \u001b[0mtype\u001b[0m\u001b[1;33m(\u001b[0m\u001b[1;33m)\u001b[0m\u001b[1;33m\u001b[0m\u001b[1;33m\u001b[0m\u001b[0m\n\u001b[0m\u001b[0;32m     16\u001b[0m \u001b[0minput\u001b[0m\u001b[1;33m(\u001b[0m\u001b[1;33m)\u001b[0m\u001b[1;33m\u001b[0m\u001b[1;33m\u001b[0m\u001b[0m\n",
      "\u001b[1;31mTypeError\u001b[0m: type() takes 1 or 3 arguments"
     ]
    }
   ],
   "source": [
    "#string ==>\n",
    "\n",
    "#collection of chars \n",
    "#whatever available within ' ' \" \" '''  ''' \"\"\"  \"\"\"\n",
    "\n",
    "#python\n",
    "\n",
    "#\"p\" \"y\" \"t\" \"h\" \"o\" \"n\"\n",
    "\n",
    "#[] ==> indexing\n",
    "#() ==> function call\n",
    "\n",
    "\n",
    "print()\n",
    "type()\n",
    "input()\n",
    "id()\n",
    "\n",
    "#string indexing ==>"
   ]
  },
  {
   "cell_type": "code",
   "execution_count": 4,
   "metadata": {},
   "outputs": [
    {
     "name": "stdout",
     "output_type": "stream",
     "text": [
      "c\n",
      "m\n",
      "e\n",
      "_\n",
      "_\n"
     ]
    }
   ],
   "source": [
    "a = \"computer_science\"\n",
    "\n",
    "print(a[0])\n",
    "\n",
    "print(a[2])\n",
    "\n",
    "print(a[-1])\n",
    "\n",
    "print(a[8])\n",
    "print(a[-8])"
   ]
  },
  {
   "cell_type": "markdown",
   "metadata": {},
   "source": [
    "## String Slicing"
   ]
  },
  {
   "cell_type": "markdown",
   "metadata": {},
   "source": [
    "## Type 1:\n",
    "\n"
   ]
  },
  {
   "cell_type": "code",
   "execution_count": 5,
   "metadata": {},
   "outputs": [
    {
     "name": "stdout",
     "output_type": "stream",
     "text": [
      "puter_s\n",
      "mpu\n",
      "computer_s\n",
      "ter_sc\n",
      "mputer\n",
      "computer\n",
      "ter_science\n",
      "_sci\n",
      "computer_science\n",
      "\n"
     ]
    }
   ],
   "source": [
    "#[from (starting index including) : to (ending index excluded) : index interval]\n",
    "\n",
    "#Only two values\n",
    "#Only Forward value\n",
    "\n",
    "val = \"computer_science\"\n",
    "\n",
    "print(val[3:10])\n",
    "print(val[2:5])\n",
    "print(val[0:10])\n",
    "print(val[5:-5])\n",
    "print(val[2:8])\n",
    "print(val[:8])\n",
    "print(val[5:])\n",
    "print(val[8:12])\n",
    "print(val[:])\n",
    "print(val[12:5])\n"
   ]
  },
  {
   "cell_type": "code",
   "execution_count": null,
   "metadata": {},
   "outputs": [],
   "source": [
    "puter_s\n",
    "mpu\n",
    "computer_s\n",
    "ter_sc\n",
    "mputer\n",
    "computer\n",
    "ter_science\n",
    "_sci\n",
    "computer_science\n",
    "empty\n"
   ]
  },
  {
   "cell_type": "markdown",
   "metadata": {},
   "source": [
    "## Type2"
   ]
  },
  {
   "cell_type": "code",
   "execution_count": 6,
   "metadata": {},
   "outputs": [
    {
     "name": "stdout",
     "output_type": "stream",
     "text": [
      "puter_s\n",
      "ptrs\n",
      "pes\n",
      "ter_sc\n",
      "trs\n",
      "tc\n",
      "cu\n",
      "t_ic\n",
      "cmue_cec\n",
      "\n"
     ]
    }
   ],
   "source": [
    "print(val[3:10:1])\n",
    "print(val[3:10:2])\n",
    "print(val[3:10:3])\n",
    "print(val[5:-5:1])\n",
    "print(val[5:-5:2])\n",
    "print(val[5:-5:5])\n",
    "print(val[:8:4])\n",
    "print(val[5::3])\n",
    "print(val[::2])\n",
    "print(val[12:5:3])\n"
   ]
  },
  {
   "cell_type": "code",
   "execution_count": null,
   "metadata": {},
   "outputs": [],
   "source": [
    "puter_s\n",
    "ptrs\n",
    "pes\n",
    "ter_sc\n",
    "trs\n",
    "tc\n",
    "cu\n",
    "t_ic\n",
    "cmue_cec\n",
    "empty\n"
   ]
  },
  {
   "cell_type": "code",
   "execution_count": 2,
   "metadata": {},
   "outputs": [
    {
     "name": "stdout",
     "output_type": "stream",
     "text": [
      "mue_ce\n",
      "\n",
      "\n",
      "cec_eu\n",
      "pese\n",
      "\n",
      "\n",
      "ncru\n"
     ]
    }
   ],
   "source": [
    "#type 3\n",
    "\n",
    "#[from (starting index including) : to (ending index excluded) : index interval]\n",
    "\n",
    "\n",
    "#it can have postive or negative starting index /ending index or index interval\n",
    "#all the three values should be there\n",
    "\n",
    "#FWD (start to end) + Pos(index)  ===> output \n",
    "#REV (start to end) + Neg(index)  ===> output\n",
    "#FWD (start to end) + Neg(index)  ===> empty\n",
    "#REV (start to end) + Pos(index)  ===> empty\n",
    "\n",
    "\n",
    "a = \"computer_science\"\n",
    "\n",
    "print(a[2:-2:2])\n",
    "print(a[2:-2:-2])\n",
    "print(a[-2:2:2])\n",
    "print(a[-2:2:-2])\n",
    "print(a[3:-3:3])\n",
    "print(a[3:-3:-3])\n",
    "print(a[-3:3:3])\n",
    "print(a[-3:3:-3])\n",
    "\n"
   ]
  },
  {
   "cell_type": "code",
   "execution_count": null,
   "metadata": {},
   "outputs": [],
   "source": [
    "mue_ce\n",
    "empty\n",
    "empty\n",
    "cec_eu\n",
    "pese\n",
    "empty\n",
    "empty\n",
    "ncru\n"
   ]
  },
  {
   "cell_type": "code",
   "execution_count": 3,
   "metadata": {},
   "outputs": [
    {
     "name": "stdout",
     "output_type": "stream",
     "text": [
      "esee\n",
      "epc\n",
      "cpe\n",
      "ees\n",
      "mre\n",
      "ctc\n",
      "comput\n",
      "enis\n",
      "computer_science\n",
      "cmue_cec\n",
      "cpesee\n",
      "ecneics_retupmoc\n",
      "enisrtpo\n",
      "eesepc\n"
     ]
    }
   ],
   "source": [
    "#type 4 and type 5\n",
    "\n",
    "#FWD (start to end) + Pos(index)  ===> output \n",
    "#REV (start to end) + Neg(index)  ===> output\n",
    "#FWD (start to end) + Neg(index)  ===> empty\n",
    "#REV (start to end) + Pos(index)  ===> empty\n",
    "\n",
    "#starting indexing or negative index or both are empty \n",
    "#index interval should be there\n",
    "\n",
    "a = \"computer_science\"\n",
    "\n",
    "print(a[6::3])\n",
    "print(a[6::-3])\n",
    "print(a[:8:3])\n",
    "print(a[:8:-3])\n",
    "print(a[2::5])\n",
    "print(a[10::-5])\n",
    "print(a[:6:1])\n",
    "print(a[:7:-2])\n",
    "\n",
    "\n",
    "#Type5\n",
    "print(a[::1])\n",
    "print(a[::2])\n",
    "print(a[::3])\n",
    "print(a[::-1])\n",
    "print(a[::-2])\n",
    "print(a[::-3])\n",
    "\n"
   ]
  },
  {
   "cell_type": "code",
   "execution_count": null,
   "metadata": {},
   "outputs": [],
   "source": [
    "esee\n",
    "epc\n",
    "cpe\n",
    "ees\n",
    "mre\n",
    "ctc\n",
    "comput\n",
    "enis\n",
    "\n",
    "computer_science\n",
    "cmue_cec\n",
    "cpesee\n",
    "ecneics_retupmoc\n"
   ]
  }
 ],
 "metadata": {
  "kernelspec": {
   "display_name": "Python 3",
   "language": "python",
   "name": "python3"
  },
  "language_info": {
   "codemirror_mode": {
    "name": "ipython",
    "version": 3
   },
   "file_extension": ".py",
   "mimetype": "text/x-python",
   "name": "python",
   "nbconvert_exporter": "python",
   "pygments_lexer": "ipython3",
   "version": "3.7.6"
  }
 },
 "nbformat": 4,
 "nbformat_minor": 4
}
